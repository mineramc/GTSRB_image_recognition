{
  "cells": [
    {
      "cell_type": "markdown",
      "metadata": {
        "id": "view-in-github",
        "colab_type": "text"
      },
      "source": [
        "<a href=\"https://colab.research.google.com/github/mineramc/GTSRB_image_recognition/blob/master/GTSRB_CNN.ipynb\" target=\"_parent\"><img src=\"https://colab.research.google.com/assets/colab-badge.svg\" alt=\"Open In Colab\"/></a>"
      ]
    },
    {
      "cell_type": "markdown",
      "source": [
        "# Load Data from kaggle\n",
        "\n",
        "1. Go to your account, Scroll to API section and Click Expire API Token to remove previous tokens\n",
        "\n",
        "2. Click on Create New API Token - It will download kaggle.json file on your machine. Load this file to content folder in colab\n",
        "\n",
        "3. Go to your Google Colab project file and run the following commands:"
      ],
      "metadata": {
        "id": "DblB-CHnfAZU"
      }
    },
    {
      "cell_type": "code",
      "execution_count": null,
      "metadata": {
        "colab": {
          "base_uri": "https://localhost:8080/"
        },
        "id": "KMMpHV0xaOVx",
        "outputId": "c52ef0d6-cac1-469e-a317-ce08ededbd78"
      },
      "outputs": [
        {
          "name": "stdout",
          "output_type": "stream",
          "text": [
            "Looking in indexes: https://pypi.org/simple, https://us-python.pkg.dev/colab-wheels/public/simple/\n",
            "Requirement already satisfied: kaggle in /usr/local/lib/python3.7/dist-packages (1.5.12)\n",
            "Requirement already satisfied: python-slugify in /usr/local/lib/python3.7/dist-packages (from kaggle) (6.1.2)\n",
            "Requirement already satisfied: python-dateutil in /usr/local/lib/python3.7/dist-packages (from kaggle) (2.8.2)\n",
            "Requirement already satisfied: urllib3 in /usr/local/lib/python3.7/dist-packages (from kaggle) (1.24.3)\n",
            "Requirement already satisfied: six>=1.10 in /usr/local/lib/python3.7/dist-packages (from kaggle) (1.15.0)\n",
            "Requirement already satisfied: requests in /usr/local/lib/python3.7/dist-packages (from kaggle) (2.23.0)\n",
            "Requirement already satisfied: tqdm in /usr/local/lib/python3.7/dist-packages (from kaggle) (4.64.0)\n",
            "Requirement already satisfied: certifi in /usr/local/lib/python3.7/dist-packages (from kaggle) (2022.6.15)\n",
            "Requirement already satisfied: text-unidecode>=1.3 in /usr/local/lib/python3.7/dist-packages (from python-slugify->kaggle) (1.3)\n",
            "Requirement already satisfied: chardet<4,>=3.0.2 in /usr/local/lib/python3.7/dist-packages (from requests->kaggle) (3.0.4)\n",
            "Requirement already satisfied: idna<3,>=2.5 in /usr/local/lib/python3.7/dist-packages (from requests->kaggle) (2.10)\n"
          ]
        }
      ],
      "source": [
        "! pip install kaggle;"
      ]
    },
    {
      "cell_type": "code",
      "execution_count": null,
      "metadata": {
        "id": "HOYAvaQaaTu1"
      },
      "outputs": [],
      "source": [
        "! mkdir ~/.kaggle"
      ]
    },
    {
      "cell_type": "code",
      "execution_count": null,
      "metadata": {
        "colab": {
          "base_uri": "https://localhost:8080/"
        },
        "id": "4y-X5eyFaZJ1",
        "outputId": "15f5880b-ce43-43c7-d988-14a9bb332b2d"
      },
      "outputs": [
        {
          "name": "stdout",
          "output_type": "stream",
          "text": [
            "cp: cannot stat 'kaggle.json': No such file or directory\n"
          ]
        }
      ],
      "source": [
        "! cp kaggle.json ~/.kaggle/"
      ]
    },
    {
      "cell_type": "code",
      "execution_count": null,
      "metadata": {
        "colab": {
          "base_uri": "https://localhost:8080/"
        },
        "id": "FKsjmAUvaptL",
        "outputId": "510f7999-163a-4037-889a-43d7f95d663b"
      },
      "outputs": [
        {
          "name": "stdout",
          "output_type": "stream",
          "text": [
            "chmod: cannot access '/root/.kaggle/kaggle.json': No such file or directory\n"
          ]
        }
      ],
      "source": [
        "! chmod 600 ~/.kaggle/kaggle.json"
      ]
    },
    {
      "cell_type": "code",
      "execution_count": null,
      "metadata": {
        "colab": {
          "background_save": true,
          "base_uri": "https://localhost:8080/"
        },
        "id": "08WHHsb2apuu",
        "outputId": "146ec475-01fe-4aaf-8e0f-8086a7860ad7"
      },
      "outputs": [
        {
          "name": "stdout",
          "output_type": "stream",
          "text": [
            "Downloading gtsrb-german-traffic-sign.zip to /content\n",
            " 96% 585M/612M [00:18<00:00, 29.9MB/s]\n",
            "100% 612M/612M [00:18<00:00, 33.8MB/s]\n"
          ]
        }
      ],
      "source": [
        "! kaggle datasets download -d meowmeowmeowmeowmeow/gtsrb-german-traffic-sign"
      ]
    },
    {
      "cell_type": "code",
      "execution_count": null,
      "metadata": {
        "colab": {
          "background_save": true
        },
        "id": "KbaVihVKcIqK"
      },
      "outputs": [],
      "source": [
        "! mkdir data"
      ]
    },
    {
      "cell_type": "code",
      "execution_count": null,
      "metadata": {
        "id": "3nP3mCXwcJ8V"
      },
      "outputs": [],
      "source": [
        "! unzip gtsrb-german-traffic-sign.zip -d data > /dev/null 2>&1"
      ]
    },
    {
      "cell_type": "code",
      "source": [
        "! pip install tensorflow"
      ],
      "metadata": {
        "id": "UXLNMr0Ug6Sx"
      },
      "execution_count": null,
      "outputs": []
    },
    {
      "cell_type": "markdown",
      "metadata": {
        "id": "iV-fGXOPbi75"
      },
      "source": [
        "# Steps to set up CNN\n",
        "\n",
        "1. Collect training data\n",
        "2. Shuffle training data and normalize data\n",
        "3. Split train and validation data\n",
        "4. One hot encoding labels (categorical data)\n",
        "5. Make model\n",
        "6. Augment data and train model\n",
        "7. Evaluate model\n",
        "8. Load test data and run predictions\n",
        "9. Visualize Confusion Matrix\n",
        "10. Classification Report\n",
        "11. Prediction on Test Data"
      ]
    },
    {
      "cell_type": "markdown",
      "source": [
        "# import libraries and set global variables"
      ],
      "metadata": {
        "id": "9mr5mjSKfjaW"
      }
    },
    {
      "cell_type": "code",
      "source": [
        "import numpy as np # linear algebra\n",
        "import pandas as pd # data processing, CSV file I/O (e.g. pd.read_csv)\n",
        "import matplotlib.pyplot as plt # for data visualization\n",
        "import seaborn as sns # for statistical data visualization\n",
        "import tensorflow as tf\n",
        "import os\n",
        "import cv2\n",
        "\n",
        "from sklearn.metrics import accuracy_score,confusion_matrix,classification_report\n",
        "from sklearn.model_selection import train_test_split\n",
        "from tensorflow import keras\n",
        "from tensorflow.keras import layers\n",
        "from tensorflow.keras.models import Sequential\n",
        "from tensorflow.keras.preprocessing.image import ImageDataGenerator # data augmentation\n",
        "from tensorflow.keras.optimizers import Adam\n",
        "from tensorflow.keras.layers import Conv2D, LeakyReLU, MaxPool2D, BatchNormalization, Dropout, Flatten, Dense\n",
        "from PIL import Image, ImageOps"
      ],
      "metadata": {
        "id": "lVgZBRBkfUMP"
      },
      "execution_count": null,
      "outputs": []
    },
    {
      "cell_type": "code",
      "source": [
        "NUM_CLASSES = 43\n",
        "IMG_HEIGHT = 30\n",
        "IMG_WIDTH = 30\n",
        "\n",
        "DATA_DIR = \"/content/data\""
      ],
      "metadata": {
        "id": "-odTrzqrfiXo"
      },
      "execution_count": null,
      "outputs": []
    },
    {
      "cell_type": "markdown",
      "metadata": {
        "id": "TaZUxT3KdQbC"
      },
      "source": [
        "1. Load training data"
      ]
    },
    {
      "cell_type": "code",
      "source": [
        "train_csv = os.path.join(DATA_DIR, \"Train.csv\")\n",
        "train_df = pd.read_csv(train_csv)\n",
        "train_df.head()\n",
        "\n",
        "greyscale_crop_train_data = []\n",
        "crop_train_data = []\n",
        "greyscale_train_data = []\n",
        "train_data = []\n",
        "train_labels = np.array(train_df['ClassId'])\n",
        "\n",
        "for _, row in train_df.iterrows():\n",
        "  img_path = os.path.join(DATA_DIR, row['Path'])\n",
        "  try:\n",
        "    img_arr = cv2.imread(img_path)\n",
        "    img = Image.fromarray(img_arr, 'RGB')\n",
        "\n",
        "\n",
        "    # Original data and greyscaled version of normal data\n",
        "    resize_image = img.resize((IMG_HEIGHT, IMG_WIDTH))\n",
        "    greyscale_image = ImageOps.grayscale(resize_image)\n",
        "    train_data.append(np.array(resize_image))\n",
        "    greyscale_train_data.append(np.array(resize_image))\n",
        "\n",
        "\n",
        "    # Crop images based on Roi.X, Roi.Y\n",
        "    # PIL's Image.crop() expects it in (left, upper, right, lower)\n",
        "    # Roi.X1 / Y1 are upper left, Roi.X2 / Y2 are lower right\n",
        "    cropped_img = img.crop((row['Roi.X1'], row['Roi.Y1'], row['Roi.X2'], row['Roi.Y2']))\n",
        "    resize_image = cropped_img.resize((IMG_HEIGHT, IMG_WIDTH))\n",
        "    greyscale_image = ImageOps.grayscale(resize_image)\n",
        "    crop_train_data.append(np.array(resize_image))\n",
        "    greyscale_crop_train_data.append(np.array(greyscale_image))\n",
        "\n",
        "    \n",
        "  except:\n",
        "    print(\"Error with importing image.\")\n",
        "\n",
        "crop_train_data = np.array(crop_train_data)\n",
        "greyscale_crop_train_data = np.array(greyscale_crop_train_data)\n",
        "train_data = np.array(train_data)\n",
        "greyscale_train_data = np.array(greyscale_train_data)\n",
        "\n",
        "print(\"Cropped Testing Data Shape:\", crop_train_data.shape)\n",
        "print(\"Cropped Greyscale Testing Data Shape:\", greyscale_crop_train_data.shape)\n",
        "print(\"Testing Data Shape:\", train_data.shape)\n",
        "print(\"Greyscale Testing Data Shape:\", greyscale_train_data.shape)\n",
        "print(\"Training Label Shape:\", train_labels.shape)\n"
      ],
      "metadata": {
        "id": "B3geOI3Lgffh",
        "colab": {
          "base_uri": "https://localhost:8080/"
        },
        "outputId": "a3b7f5e7-2257-408d-b7de-02c6d3633f5d"
      },
      "execution_count": null,
      "outputs": [
        {
          "output_type": "stream",
          "name": "stdout",
          "text": [
            "Cropped Testing Data Shape: (39209, 30, 30, 3)\n",
            "Cropped Greyscale Testing Data Shape: (39209, 30, 30)\n",
            "Testing Data Shape: (39209, 30, 30, 3)\n",
            "Greyscale Testing Data Shape: (39209, 30, 30, 3)\n",
            "Training Label Shape: (39209,)\n"
          ]
        }
      ]
    },
    {
      "cell_type": "markdown",
      "metadata": {
        "id": "eJ9Cw3kwdS2r"
      },
      "source": [
        "2. Shuffle training data and normalize"
      ]
    },
    {
      "cell_type": "code",
      "execution_count": null,
      "metadata": {
        "id": "N-9TBNq9dDFP"
      },
      "outputs": [],
      "source": [
        "shuffle_indexes = np.arange(train_labels.shape[0]) #return numpy array [0,1,2,...,39206,39207,39208]\n",
        "# image_data.shape = (39209, 30, 30, 3)\n",
        "rng = np.random.default_rng()\n",
        "rng.shuffle(shuffle_indexes)\n",
        "np.random.shuffle(shuffle_indexes) # shuffles index\n",
        "\n",
        "# shuffles the data with shuffled indices\n",
        "image_data = crop_train_data[shuffle_indexes]\n",
        "image_labels = train_labels[shuffle_indexes]\n",
        "grey_data = greyscale_train_data[shuffle_indexes]\n",
        "\n",
        "X = image_data/255\n",
        "y = image_labels\n",
        "grey_X_train = grey_data/255\n",
        "\n"
      ]
    },
    {
      "cell_type": "markdown",
      "metadata": {
        "id": "Whh1mEWldWnO"
      },
      "source": [
        "3. Training and validation split"
      ]
    },
    {
      "cell_type": "code",
      "execution_count": null,
      "metadata": {
        "id": "aJQvIUtQdZMR"
      },
      "outputs": [],
      "source": [
        "X_train, X_val, y_train, y_val = train_test_split(X, y, test_size=0.20, random_state=42)"
      ]
    },
    {
      "cell_type": "markdown",
      "source": [
        "4. One hot encoding labels"
      ],
      "metadata": {
        "id": "HdTLQ9EZir96"
      }
    },
    {
      "cell_type": "code",
      "source": [
        "print(\"Shape before one-hot encoding:\", y_train.shape, y_val.shape)\n",
        "\n",
        "y_train = tf.keras.utils.to_categorical(y_train, NUM_CLASSES)\n",
        "y_val = tf.keras.utils.to_categorical(y_val, NUM_CLASSES)\n",
        "\n",
        "print(\"Shape after one-hot encoding:\", y_train.shape, y_val.shape)"
      ],
      "metadata": {
        "id": "-9umpZFpitqB",
        "colab": {
          "base_uri": "https://localhost:8080/"
        },
        "outputId": "39d514ac-e968-486c-ccaa-96a72b30616a"
      },
      "execution_count": null,
      "outputs": [
        {
          "output_type": "stream",
          "name": "stdout",
          "text": [
            "Shape before one-hot encoding: (31367,) (7842,)\n",
            "Shape after one-hot encoding: (31367, 43) (7842, 43)\n"
          ]
        }
      ]
    },
    {
      "cell_type": "markdown",
      "source": [
        "5. Making the model\n",
        "\n",
        "\n",
        "\n",
        "> Sequential model is used for a plain stack of layers where each layer has exactly one input and output tensor.\n"
      ],
      "metadata": {
        "id": "0owqVyYDkcJG"
      }
    },
    {
      "cell_type": "code",
      "source": [
        "data_augmentation = tf.keras.Sequential([\n",
        "  layers.RandomRotation(0.2),\n",
        "  layers.RandomZoom(0.15),\n",
        "  layers.RandomTranslation(0.1, 0.1)\n",
        "])\n",
        "\n",
        "model = Sequential()\n",
        "# Data Augmentation layers\n",
        "# model.add(data_augmentation)\n",
        "# CNN layer 1\n",
        "model.add(Conv2D(filters=25, kernel_size=(5,5), input_shape=(IMG_HEIGHT,IMG_WIDTH,3)))\n",
        "model.add(LeakyReLU(alpha=0.01))\n",
        "model.add(Conv2D(filters=25, kernel_size=(5,5)))\n",
        "model.add(LeakyReLU(alpha=0.01))\n",
        "model.add(MaxPool2D(pool_size=(2,2)))\n",
        "model.add(BatchNormalization(axis=-1))\n",
        "model.add(Dropout(rate=0.3)) #\n",
        "\n",
        "\n",
        "# CNN layer 2\n",
        "model.add(Conv2D(filters=50, kernel_size=(3,3)))\n",
        "model.add(LeakyReLU(alpha=0.01))\n",
        "model.add(Conv2D(filters=50, kernel_size=(3,3)))\n",
        "model.add(LeakyReLU(alpha=0.01))\n",
        "model.add(MaxPool2D(pool_size=(2,2)))\n",
        "model.add(BatchNormalization(axis=-1))\n",
        "model.add(Dropout(rate=0.3))\n",
        "\n",
        "model.add(Flatten())\n",
        "model.add(Dense(512))\n",
        "model.add(LeakyReLU(alpha=0.01))\n",
        "keras.layers.BatchNormalization()\n",
        "model.add(Dropout(rate=0.3)) # .5 -> .3\n",
        "model.add(Dense(43, activation='softmax'))"
      ],
      "metadata": {
        "id": "SY7kFM1sj5Tl"
      },
      "execution_count": null,
      "outputs": []
    },
    {
      "cell_type": "code",
      "source": [
        "model.compile(optimizer='adam',\n",
        "              loss=tf.keras.losses.CategoricalCrossentropy(from_logits=True),\n",
        "              metrics=['accuracy'])"
      ],
      "metadata": {
        "id": "KOI9Q3pylFal"
      },
      "execution_count": null,
      "outputs": []
    },
    {
      "cell_type": "code",
      "source": [
        "model.build((None, IMG_HEIGHT, IMG_WIDTH, 3))\n",
        "model.summary()"
      ],
      "metadata": {
        "id": "uZKLJeC3lJ2Z",
        "colab": {
          "base_uri": "https://localhost:8080/"
        },
        "outputId": "cfb17515-a84d-4610-c691-b3d68319fa05"
      },
      "execution_count": null,
      "outputs": [
        {
          "output_type": "stream",
          "name": "stdout",
          "text": [
            "Model: \"sequential_15\"\n",
            "_________________________________________________________________\n",
            " Layer (type)                Output Shape              Param #   \n",
            "=================================================================\n",
            " conv2d_28 (Conv2D)          (None, 26, 26, 25)        1900      \n",
            "                                                                 \n",
            " leaky_re_lu_30 (LeakyReLU)  (None, 26, 26, 25)        0         \n",
            "                                                                 \n",
            " conv2d_29 (Conv2D)          (None, 22, 22, 25)        15650     \n",
            "                                                                 \n",
            " leaky_re_lu_31 (LeakyReLU)  (None, 22, 22, 25)        0         \n",
            "                                                                 \n",
            " max_pooling2d_16 (MaxPoolin  (None, 11, 11, 25)       0         \n",
            " g2D)                                                            \n",
            "                                                                 \n",
            " batch_normalization_18 (Bat  (None, 11, 11, 25)       100       \n",
            " chNormalization)                                                \n",
            "                                                                 \n",
            " dropout_12 (Dropout)        (None, 11, 11, 25)        0         \n",
            "                                                                 \n",
            " conv2d_30 (Conv2D)          (None, 9, 9, 50)          11300     \n",
            "                                                                 \n",
            " leaky_re_lu_32 (LeakyReLU)  (None, 9, 9, 50)          0         \n",
            "                                                                 \n",
            " conv2d_31 (Conv2D)          (None, 7, 7, 50)          22550     \n",
            "                                                                 \n",
            " leaky_re_lu_33 (LeakyReLU)  (None, 7, 7, 50)          0         \n",
            "                                                                 \n",
            " max_pooling2d_17 (MaxPoolin  (None, 3, 3, 50)         0         \n",
            " g2D)                                                            \n",
            "                                                                 \n",
            " batch_normalization_19 (Bat  (None, 3, 3, 50)         200       \n",
            " chNormalization)                                                \n",
            "                                                                 \n",
            " dropout_13 (Dropout)        (None, 3, 3, 50)          0         \n",
            "                                                                 \n",
            " flatten_8 (Flatten)         (None, 450)               0         \n",
            "                                                                 \n",
            " dense_16 (Dense)            (None, 512)               230912    \n",
            "                                                                 \n",
            " leaky_re_lu_34 (LeakyReLU)  (None, 512)               0         \n",
            "                                                                 \n",
            " dropout_14 (Dropout)        (None, 512)               0         \n",
            "                                                                 \n",
            " dense_17 (Dense)            (None, 43)                22059     \n",
            "                                                                 \n",
            "=================================================================\n",
            "Total params: 304,671\n",
            "Trainable params: 304,521\n",
            "Non-trainable params: 150\n",
            "_________________________________________________________________\n"
          ]
        }
      ]
    },
    {
      "cell_type": "markdown",
      "source": [
        "6. Train model"
      ],
      "metadata": {
        "id": "iH3jybAAlTiK"
      }
    },
    {
      "cell_type": "code",
      "source": [
        "epochs=40\n",
        "history = model.fit(\n",
        "  x = X_train,\n",
        "  y = y_train,\n",
        "  batch_size=32, # number of training examples used in one epoch \n",
        "  validation_data=(X_val, y_val),\n",
        "  epochs=epochs # epoch is one complete pass through training data\n",
        ")"
      ],
      "metadata": {
        "id": "3d9roIgElSEp",
        "colab": {
          "base_uri": "https://localhost:8080/"
        },
        "outputId": "8e0895c7-97e3-4779-85ad-e981bc422f5f"
      },
      "execution_count": null,
      "outputs": [
        {
          "output_type": "stream",
          "name": "stdout",
          "text": [
            "Epoch 1/40\n"
          ]
        },
        {
          "output_type": "stream",
          "name": "stderr",
          "text": [
            "/usr/local/lib/python3.7/dist-packages/tensorflow/python/util/dispatch.py:1082: UserWarning: \"`categorical_crossentropy` received `from_logits=True`, but the `output` argument was produced by a sigmoid or softmax activation and thus does not represent logits. Was this intended?\"\n",
            "  return dispatch_target(*args, **kwargs)\n"
          ]
        },
        {
          "output_type": "stream",
          "name": "stdout",
          "text": [
            "981/981 [==============================] - 8s 7ms/step - loss: 0.4330 - accuracy: 0.8826 - val_loss: 0.0670 - val_accuracy: 0.9792\n",
            "Epoch 2/40\n",
            "981/981 [==============================] - 11s 11ms/step - loss: 0.0966 - accuracy: 0.9706 - val_loss: 0.0383 - val_accuracy: 0.9901\n",
            "Epoch 3/40\n",
            "981/981 [==============================] - 12s 12ms/step - loss: 0.0723 - accuracy: 0.9775 - val_loss: 0.0593 - val_accuracy: 0.9839\n",
            "Epoch 4/40\n",
            "981/981 [==============================] - 10s 10ms/step - loss: 0.0524 - accuracy: 0.9846 - val_loss: 0.0337 - val_accuracy: 0.9899\n",
            "Epoch 5/40\n",
            "981/981 [==============================] - 11s 11ms/step - loss: 0.0560 - accuracy: 0.9832 - val_loss: 0.0369 - val_accuracy: 0.9906\n",
            "Epoch 6/40\n",
            "981/981 [==============================] - 8s 8ms/step - loss: 0.0466 - accuracy: 0.9859 - val_loss: 0.0230 - val_accuracy: 0.9950\n",
            "Epoch 7/40\n",
            "981/981 [==============================] - 6s 6ms/step - loss: 0.0419 - accuracy: 0.9885 - val_loss: 0.0327 - val_accuracy: 0.9909\n",
            "Epoch 8/40\n",
            "981/981 [==============================] - 6s 6ms/step - loss: 0.0371 - accuracy: 0.9893 - val_loss: 0.0246 - val_accuracy: 0.9932\n",
            "Epoch 9/40\n",
            "981/981 [==============================] - 6s 6ms/step - loss: 0.0347 - accuracy: 0.9901 - val_loss: 0.0521 - val_accuracy: 0.9872\n",
            "Epoch 10/40\n",
            "981/981 [==============================] - 6s 6ms/step - loss: 0.0318 - accuracy: 0.9914 - val_loss: 0.0249 - val_accuracy: 0.9944\n",
            "Epoch 11/40\n",
            "981/981 [==============================] - 6s 6ms/step - loss: 0.0317 - accuracy: 0.9911 - val_loss: 0.0235 - val_accuracy: 0.9943\n",
            "Epoch 12/40\n",
            "981/981 [==============================] - 6s 6ms/step - loss: 0.0253 - accuracy: 0.9930 - val_loss: 0.0244 - val_accuracy: 0.9941\n",
            "Epoch 13/40\n",
            "981/981 [==============================] - 6s 6ms/step - loss: 0.0258 - accuracy: 0.9928 - val_loss: 0.0358 - val_accuracy: 0.9903\n",
            "Epoch 14/40\n",
            "981/981 [==============================] - 6s 6ms/step - loss: 0.0216 - accuracy: 0.9937 - val_loss: 0.0235 - val_accuracy: 0.9960\n",
            "Epoch 15/40\n",
            "981/981 [==============================] - 6s 6ms/step - loss: 0.0234 - accuracy: 0.9931 - val_loss: 0.0267 - val_accuracy: 0.9960\n",
            "Epoch 16/40\n",
            "981/981 [==============================] - 7s 8ms/step - loss: 0.0248 - accuracy: 0.9933 - val_loss: 0.0254 - val_accuracy: 0.9953\n",
            "Epoch 17/40\n",
            "981/981 [==============================] - 6s 6ms/step - loss: 0.0166 - accuracy: 0.9957 - val_loss: 0.0204 - val_accuracy: 0.9949\n",
            "Epoch 18/40\n",
            "981/981 [==============================] - 6s 6ms/step - loss: 0.0228 - accuracy: 0.9936 - val_loss: 0.0296 - val_accuracy: 0.9930\n",
            "Epoch 19/40\n",
            "981/981 [==============================] - 6s 6ms/step - loss: 0.0165 - accuracy: 0.9954 - val_loss: 0.0305 - val_accuracy: 0.9950\n",
            "Epoch 20/40\n",
            "981/981 [==============================] - 6s 6ms/step - loss: 0.0200 - accuracy: 0.9944 - val_loss: 0.0224 - val_accuracy: 0.9957\n",
            "Epoch 21/40\n",
            "981/981 [==============================] - 7s 7ms/step - loss: 0.0179 - accuracy: 0.9946 - val_loss: 0.0390 - val_accuracy: 0.9946\n",
            "Epoch 22/40\n",
            "981/981 [==============================] - 6s 6ms/step - loss: 0.0190 - accuracy: 0.9950 - val_loss: 0.0466 - val_accuracy: 0.9906\n",
            "Epoch 23/40\n",
            "981/981 [==============================] - 6s 6ms/step - loss: 0.0190 - accuracy: 0.9947 - val_loss: 0.0298 - val_accuracy: 0.9940\n",
            "Epoch 24/40\n",
            "981/981 [==============================] - 6s 6ms/step - loss: 0.0161 - accuracy: 0.9955 - val_loss: 0.0212 - val_accuracy: 0.9964\n",
            "Epoch 25/40\n",
            "981/981 [==============================] - 6s 6ms/step - loss: 0.0122 - accuracy: 0.9964 - val_loss: 0.0118 - val_accuracy: 0.9973\n",
            "Epoch 26/40\n",
            "981/981 [==============================] - 6s 6ms/step - loss: 0.0172 - accuracy: 0.9956 - val_loss: 0.0256 - val_accuracy: 0.9957\n",
            "Epoch 27/40\n",
            "981/981 [==============================] - 6s 6ms/step - loss: 0.0173 - accuracy: 0.9954 - val_loss: 0.0154 - val_accuracy: 0.9980\n",
            "Epoch 28/40\n",
            "981/981 [==============================] - 6s 6ms/step - loss: 0.0137 - accuracy: 0.9970 - val_loss: 0.0184 - val_accuracy: 0.9963\n",
            "Epoch 29/40\n",
            "981/981 [==============================] - 6s 6ms/step - loss: 0.0119 - accuracy: 0.9965 - val_loss: 0.0197 - val_accuracy: 0.9974\n",
            "Epoch 30/40\n",
            "981/981 [==============================] - 6s 6ms/step - loss: 0.0131 - accuracy: 0.9960 - val_loss: 0.0090 - val_accuracy: 0.9982\n",
            "Epoch 31/40\n",
            "981/981 [==============================] - 7s 7ms/step - loss: 0.0123 - accuracy: 0.9969 - val_loss: 0.0092 - val_accuracy: 0.9985\n",
            "Epoch 32/40\n",
            "981/981 [==============================] - 6s 6ms/step - loss: 0.0109 - accuracy: 0.9972 - val_loss: 0.0147 - val_accuracy: 0.9978\n",
            "Epoch 33/40\n",
            "981/981 [==============================] - 6s 6ms/step - loss: 0.0100 - accuracy: 0.9972 - val_loss: 0.0230 - val_accuracy: 0.9955\n",
            "Epoch 34/40\n",
            "981/981 [==============================] - 6s 6ms/step - loss: 0.0136 - accuracy: 0.9973 - val_loss: 0.0166 - val_accuracy: 0.9974\n",
            "Epoch 35/40\n",
            "981/981 [==============================] - 6s 6ms/step - loss: 0.0180 - accuracy: 0.9955 - val_loss: 0.0133 - val_accuracy: 0.9977\n",
            "Epoch 36/40\n",
            "981/981 [==============================] - 6s 6ms/step - loss: 0.0122 - accuracy: 0.9968 - val_loss: 0.0151 - val_accuracy: 0.9977\n",
            "Epoch 37/40\n",
            "981/981 [==============================] - 6s 6ms/step - loss: 0.0117 - accuracy: 0.9969 - val_loss: 0.0177 - val_accuracy: 0.9978\n",
            "Epoch 38/40\n",
            "981/981 [==============================] - 7s 7ms/step - loss: 0.0113 - accuracy: 0.9972 - val_loss: 0.0130 - val_accuracy: 0.9977\n",
            "Epoch 39/40\n",
            "981/981 [==============================] - 6s 6ms/step - loss: 0.0100 - accuracy: 0.9970 - val_loss: 0.0132 - val_accuracy: 0.9985\n",
            "Epoch 40/40\n",
            "981/981 [==============================] - 6s 6ms/step - loss: 0.0082 - accuracy: 0.9977 - val_loss: 0.0207 - val_accuracy: 0.9954\n"
          ]
        }
      ]
    },
    {
      "cell_type": "markdown",
      "source": [
        "visualize training results"
      ],
      "metadata": {
        "id": "9GVAK_64meii"
      }
    },
    {
      "cell_type": "code",
      "source": [
        "acc = history.history['accuracy']\n",
        "val_acc = history.history['val_accuracy']\n",
        "\n",
        "loss = history.history['loss']\n",
        "val_loss = history.history['val_loss']\n",
        "\n",
        "epochs_range = range(epochs)\n",
        "\n",
        "plt.figure(figsize=(8, 8))\n",
        "plt.subplot(1, 2, 1)\n",
        "plt.plot(epochs_range, acc, label='Training Accuracy')\n",
        "plt.plot(epochs_range, val_acc, label='Validation Accuracy')\n",
        "plt.legend(loc='lower right')\n",
        "plt.title('Training and Validation Accuracy')\n",
        "\n",
        "plt.subplot(1, 2, 2)\n",
        "plt.plot(epochs_range, loss, label='Training Loss')\n",
        "plt.plot(epochs_range, val_loss, label='Validation Loss')\n",
        "plt.legend(loc='upper right')\n",
        "plt.title('Training and Validation Loss')\n",
        "plt.show()"
      ],
      "metadata": {
        "id": "WLihyxAMmbrh",
        "colab": {
          "base_uri": "https://localhost:8080/",
          "height": 499
        },
        "outputId": "8a6107bb-f525-472f-cbbb-963c1f01ced5"
      },
      "execution_count": null,
      "outputs": [
        {
          "output_type": "display_data",
          "data": {
            "text/plain": [
              "<Figure size 576x576 with 2 Axes>"
            ],
            "image/png": "[encoded data removed]"
          },
          "metadata": {
            "needs_background": "light"
          }
        }
      ]
    },
    {
      "cell_type": "code",
      "source": [
        "test = pd.read_csv(DATA_DIR + '/Test.csv')\n",
        "\n",
        "labels = test[\"ClassId\"].values\n",
        "imgs = test[\"Path\"].values\n",
        "crop_coords = test[['Roi.X1', 'Roi.Y1', 'Roi.X2', 'Roi.Y2']]\n",
        "\n",
        "data = []\n",
        "greyscale_data = []\n",
        "crop_data = []\n",
        "crop_grey_dat = []\n",
        "\n",
        "\n",
        "#read in test data\n",
        "for index, row in test.iterrows():\n",
        "    try:\n",
        "        image = cv2.imread(DATA_DIR + '/' + row['Path'])\n",
        "        image_fromarray = Image.fromarray(image, 'RGB')\n",
        "        cropped_img = image_fromarray.crop((row['Roi.X1'], row['Roi.Y1'], row['Roi.X2'], row['Roi.Y2']))\n",
        "        resize_image = image_fromarray.resize((IMG_HEIGHT, IMG_WIDTH))\n",
        "        crop_resize = cropped_img.resize((IMG_HEIGHT, IMG_WIDTH))\n",
        "        greyscale_img = ImageOps.grayscale(resize_image)\n",
        "        crop_grey = ImageOps.grayscale(crop_resize)\n",
        "        data.append(np.array(resize_image))\n",
        "        greyscale_data.append(np.array(greyscale_img))\n",
        "        crop_data.append(np.array(crop_resize))\n",
        "        crop_grey_dat.append(np.array(crop_grey))\n",
        "    except:\n",
        "        print(\"Error in \" + img)\n",
        "\n",
        "X_test = np.array(data)\n",
        "y_test = labels\n",
        "grey_X_test = np.array(greyscale_data)\n",
        "crop_X_test = np.array(crop_data)\n",
        "crop_g_X_test = np.array(crop_grey_dat)\n"
      ],
      "metadata": {
        "id": "ykxkpvB8slIV"
      },
      "execution_count": null,
      "outputs": []
    },
    {
      "cell_type": "code",
      "source": [
        "prediction = model.predict(x=crop_X_test)\n",
        "prediction\n",
        "preds = np.argmax(prediction, axis=1)"
      ],
      "metadata": {
        "id": "6YdWRhl9rA_Y"
      },
      "execution_count": null,
      "outputs": []
    },
    {
      "cell_type": "code",
      "source": [
        "from sklearn.metrics import classification_report, confusion_matrix, f1_score\n",
        "\n",
        "print(classification_report(test['ClassId'], preds))"
      ],
      "metadata": {
        "id": "v6cLzbHdtOHJ",
        "colab": {
          "base_uri": "https://localhost:8080/"
        },
        "outputId": "4ba5e65a-1bb4-4ac1-d230-7fb82a9e35ad"
      },
      "execution_count": null,
      "outputs": [
        {
          "output_type": "stream",
          "name": "stdout",
          "text": [
            "              precision    recall  f1-score   support\n",
            "\n",
            "           0       0.72      1.00      0.84        60\n",
            "           1       0.97      0.96      0.96       720\n",
            "           2       0.95      0.99      0.97       750\n",
            "           3       1.00      0.92      0.96       450\n",
            "           4       1.00      0.96      0.98       660\n",
            "           5       0.98      0.94      0.96       630\n",
            "           6       1.00      0.65      0.79       150\n",
            "           7       1.00      0.92      0.95       450\n",
            "           8       0.97      0.92      0.94       450\n",
            "           9       0.96      0.98      0.97       480\n",
            "          10       0.98      0.98      0.98       660\n",
            "          11       0.99      0.96      0.97       420\n",
            "          12       0.99      0.89      0.94       690\n",
            "          13       1.00      0.96      0.98       720\n",
            "          14       1.00      0.90      0.95       270\n",
            "          15       0.93      0.98      0.95       210\n",
            "          16       0.89      1.00      0.94       150\n",
            "          17       1.00      1.00      1.00       360\n",
            "          18       0.80      0.99      0.89       390\n",
            "          19       0.78      1.00      0.88        60\n",
            "          20       0.99      0.98      0.98        90\n",
            "          21       0.96      0.82      0.89        90\n",
            "          22       1.00      0.74      0.85       120\n",
            "          23       0.88      0.98      0.92       150\n",
            "          24       0.99      0.84      0.91        90\n",
            "          25       0.95      0.96      0.95       480\n",
            "          26       0.98      0.72      0.83       180\n",
            "          27       1.00      0.38      0.55        60\n",
            "          28       0.98      0.97      0.98       150\n",
            "          29       0.98      1.00      0.99        90\n",
            "          30       1.00      0.58      0.73       150\n",
            "          31       1.00      0.95      0.98       270\n",
            "          32       1.00      0.50      0.67        60\n",
            "          33       1.00      0.97      0.98       210\n",
            "          34       0.64      0.97      0.77       120\n",
            "          35       0.98      0.99      0.99       390\n",
            "          36       0.68      1.00      0.81       120\n",
            "          37       0.36      1.00      0.53        60\n",
            "          38       0.96      0.99      0.98       690\n",
            "          39       0.62      0.96      0.75        90\n",
            "          40       0.40      0.71      0.51        90\n",
            "          41       0.76      0.78      0.77        60\n",
            "          42       0.99      0.76      0.86        90\n",
            "\n",
            "    accuracy                           0.94     12630\n",
            "   macro avg       0.91      0.89      0.88     12630\n",
            "weighted avg       0.95      0.94      0.94     12630\n",
            "\n"
          ]
        }
      ]
    },
    {
      "cell_type": "code",
      "source": [
        ""
      ],
      "metadata": {
        "id": "KDIqta_Ws-CT"
      },
      "execution_count": null,
      "outputs": []
    }
  ],
  "metadata": {
    "accelerator": "GPU",
    "colab": {
      "collapsed_sections": [],
      "name": "GTSRB_CNN.ipynb",
      "provenance": [],
      "include_colab_link": true
    },
    "gpuClass": "standard",
    "kernelspec": {
      "display_name": "Python 3",
      "name": "python3"
    },
    "language_info": {
      "name": "python"
    }
  },
  "nbformat": 4,
  "nbformat_minor": 0
}