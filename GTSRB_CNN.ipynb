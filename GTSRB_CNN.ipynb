{
  "cells": [
    {
      "cell_type": "markdown",
      "metadata": {
        "id": "view-in-github",
        "colab_type": "text"
      },
      "source": [
        "<a href=\"https://colab.research.google.com/github/mineramc/GTSRB_image_recognition/blob/master/GTSRB_CNN.ipynb\" target=\"_parent\"><img src=\"https://colab.research.google.com/assets/colab-badge.svg\" alt=\"Open In Colab\"/></a>"
      ]
    },
    {
      "cell_type": "markdown",
      "source": [
        "# Load Data from kaggle\n",
        "\n",
        "1. Go to your account, Scroll to API section and Click Expire API Token to remove previous tokens\n",
        "\n",
        "2. Click on Create New API Token - It will download kaggle.json file on your machine. Load this file to content folder in colab\n",
        "\n",
        "3. Go to your Google Colab project file and run the following commands:"
      ],
      "metadata": {
        "id": "DblB-CHnfAZU"
      }
    },
    {
      "cell_type": "code",
      "execution_count": null,
      "metadata": {
        "colab": {
          "base_uri": "https://localhost:8080/"
        },
        "id": "KMMpHV0xaOVx",
        "outputId": "c52ef0d6-cac1-469e-a317-ce08ededbd78"
      },
      "outputs": [
        {
          "name": "stdout",
          "output_type": "stream",
          "text": [
            "Looking in indexes: https://pypi.org/simple, https://us-python.pkg.dev/colab-wheels/public/simple/\n",
            "Requirement already satisfied: kaggle in /usr/local/lib/python3.7/dist-packages (1.5.12)\n",
            "Requirement already satisfied: python-slugify in /usr/local/lib/python3.7/dist-packages (from kaggle) (6.1.2)\n",
            "Requirement already satisfied: python-dateutil in /usr/local/lib/python3.7/dist-packages (from kaggle) (2.8.2)\n",
            "Requirement already satisfied: urllib3 in /usr/local/lib/python3.7/dist-packages (from kaggle) (1.24.3)\n",
            "Requirement already satisfied: six>=1.10 in /usr/local/lib/python3.7/dist-packages (from kaggle) (1.15.0)\n",
            "Requirement already satisfied: requests in /usr/local/lib/python3.7/dist-packages (from kaggle) (2.23.0)\n",
            "Requirement already satisfied: tqdm in /usr/local/lib/python3.7/dist-packages (from kaggle) (4.64.0)\n",
            "Requirement already satisfied: certifi in /usr/local/lib/python3.7/dist-packages (from kaggle) (2022.6.15)\n",
            "Requirement already satisfied: text-unidecode>=1.3 in /usr/local/lib/python3.7/dist-packages (from python-slugify->kaggle) (1.3)\n",
            "Requirement already satisfied: chardet<4,>=3.0.2 in /usr/local/lib/python3.7/dist-packages (from requests->kaggle) (3.0.4)\n",
            "Requirement already satisfied: idna<3,>=2.5 in /usr/local/lib/python3.7/dist-packages (from requests->kaggle) (2.10)\n"
          ]
        }
      ],
      "source": [
        "! pip install kaggle;"
      ]
    },
    {
      "cell_type": "code",
      "execution_count": null,
      "metadata": {
        "id": "HOYAvaQaaTu1"
      },
      "outputs": [],
      "source": [
        "! mkdir ~/.kaggle"
      ]
    },
    {
      "cell_type": "code",
      "execution_count": null,
      "metadata": {
        "colab": {
          "base_uri": "https://localhost:8080/"
        },
        "id": "4y-X5eyFaZJ1",
        "outputId": "15f5880b-ce43-43c7-d988-14a9bb332b2d"
      },
      "outputs": [
        {
          "name": "stdout",
          "output_type": "stream",
          "text": [
            "cp: cannot stat 'kaggle.json': No such file or directory\n"
          ]
        }
      ],
      "source": [
        "! cp kaggle.json ~/.kaggle/"
      ]
    },
    {
      "cell_type": "code",
      "execution_count": null,
      "metadata": {
        "colab": {
          "base_uri": "https://localhost:8080/"
        },
        "id": "FKsjmAUvaptL",
        "outputId": "510f7999-163a-4037-889a-43d7f95d663b"
      },
      "outputs": [
        {
          "name": "stdout",
          "output_type": "stream",
          "text": [
            "chmod: cannot access '/root/.kaggle/kaggle.json': No such file or directory\n"
          ]
        }
      ],
      "source": [
        "! chmod 600 ~/.kaggle/kaggle.json"
      ]
    },
    {
      "cell_type": "code",
      "execution_count": null,
      "metadata": {
        "colab": {
          "background_save": true,
          "base_uri": "https://localhost:8080/"
        },
        "id": "08WHHsb2apuu",
        "outputId": "146ec475-01fe-4aaf-8e0f-8086a7860ad7"
      },
      "outputs": [
        {
          "name": "stdout",
          "output_type": "stream",
          "text": [
            "Downloading gtsrb-german-traffic-sign.zip to /content\n",
            " 96% 585M/612M [00:18<00:00, 29.9MB/s]\n",
            "100% 612M/612M [00:18<00:00, 33.8MB/s]\n"
          ]
        }
      ],
      "source": [
        "! kaggle datasets download -d meowmeowmeowmeowmeow/gtsrb-german-traffic-sign"
      ]
    },
    {
      "cell_type": "code",
      "execution_count": null,
      "metadata": {
        "colab": {
          "background_save": true
        },
        "id": "KbaVihVKcIqK"
      },
      "outputs": [],
      "source": [
        "! mkdir data"
      ]
    },
    {
      "cell_type": "code",
      "execution_count": null,
      "metadata": {
        "id": "3nP3mCXwcJ8V"
      },
      "outputs": [],
      "source": [
        "! unzip gtsrb-german-traffic-sign.zip -d data > /dev/null 2>&1"
      ]
    },
    {
      "cell_type": "code",
      "source": [
        "! pip install tensorflow"
      ],
      "metadata": {
        "id": "UXLNMr0Ug6Sx"
      },
      "execution_count": null,
      "outputs": []
    },
    {
      "cell_type": "markdown",
      "metadata": {
        "id": "iV-fGXOPbi75"
      },
      "source": [
        "# Steps to set up CNN\n",
        "\n",
        "1. Collect training data\n",
        "2. Shuffle training data and normalize data\n",
        "3. Split train and validation data\n",
        "4. One hot encoding labels (categorical data)\n",
        "5. Make model\n",
        "6. Augment data and train model\n",
        "7. Evaluate model\n",
        "8. Load test data and run predictions\n",
        "9. Visualize Confusion Matrix\n",
        "10. Classification Report\n",
        "11. Prediction on Test Data"
      ]
    },
    {
      "cell_type": "markdown",
      "source": [
        "# import libraries and set global variables"
      ],
      "metadata": {
        "id": "9mr5mjSKfjaW"
      }
    },
    {
      "cell_type": "code",
      "source": [
        "import numpy as np # linear algebra\n",
        "import pandas as pd # data processing, CSV file I/O (e.g. pd.read_csv)\n",
        "import matplotlib.pyplot as plt # for data visualization\n",
        "import seaborn as sns # for statistical data visualization\n",
        "import tensorflow as tf\n",
        "import os\n",
        "import cv2\n",
        "\n",
        "from sklearn.metrics import accuracy_score,confusion_matrix,classification_report\n",
        "from sklearn.model_selection import train_test_split\n",
        "from tensorflow import keras\n",
        "from tensorflow.keras import layers\n",
        "from tensorflow.keras.models import Sequential\n",
        "from tensorflow.keras.preprocessing.image import ImageDataGenerator # data augmentation\n",
        "from tensorflow.keras.optimizers import Adam\n",
        "from tensorflow.keras.layers import Conv2D, LeakyReLU, MaxPool2D, BatchNormalization, Dropout, Flatten, Dense\n",
        "from PIL import Image, ImageOps"
      ],
      "metadata": {
        "id": "lVgZBRBkfUMP"
      },
      "execution_count": null,
      "outputs": []
    },
    {
      "cell_type": "code",
      "source": [
        "NUM_CLASSES = 43\n",
        "IMG_HEIGHT = 30\n",
        "IMG_WIDTH = 30\n",
        "\n",
        "DATA_DIR = \"/content/data\""
      ],
      "metadata": {
        "id": "-odTrzqrfiXo"
      },
      "execution_count": null,
      "outputs": []
    },
    {
      "cell_type": "markdown",
      "metadata": {
        "id": "TaZUxT3KdQbC"
      },
      "source": [
        "1. Load training data"
      ]
    },
    {
      "cell_type": "code",
      "source": [
        "train_csv = os.path.join(DATA_DIR, \"Train.csv\")\n",
        "train_df = pd.read_csv(train_csv)\n",
        "train_df.head()\n",
        "\n",
        "greyscale_crop_train_data = []\n",
        "crop_train_data = []\n",
        "greyscale_train_data = []\n",
        "train_data = []\n",
        "train_labels = np.array(train_df['ClassId'])\n",
        "\n",
        "for _, row in train_df.iterrows():\n",
        "  img_path = os.path.join(DATA_DIR, row['Path'])\n",
        "  try:\n",
        "    img_arr = cv2.imread(img_path)\n",
        "    img = Image.fromarray(img_arr, 'RGB')\n",
        "\n",
        "\n",
        "    # Original data and greyscaled version of normal data\n",
        "    resize_image = img.resize((IMG_HEIGHT, IMG_WIDTH))\n",
        "    greyscale_image = ImageOps.grayscale(resize_image)\n",
        "    train_data.append(np.array(resize_image))\n",
        "    greyscale_train_data.append(np.array(resize_image))\n",
        "\n",
        "\n",
        "    # Crop images based on Roi.X, Roi.Y\n",
        "    # PIL's Image.crop() expects it in (left, upper, right, lower)\n",
        "    # Roi.X1 / Y1 are upper left, Roi.X2 / Y2 are lower right\n",
        "    cropped_img = img.crop((row['Roi.X1'], row['Roi.Y1'], row['Roi.X2'], row['Roi.Y2']))\n",
        "    resize_image = cropped_img.resize((IMG_HEIGHT, IMG_WIDTH))\n",
        "    greyscale_image = ImageOps.grayscale(resize_image)\n",
        "    crop_train_data.append(np.array(resize_image))\n",
        "    greyscale_crop_train_data.append(np.array(greyscale_image))\n",
        "\n",
        "    \n",
        "  except:\n",
        "    print(\"Error with importing image.\")\n",
        "\n",
        "crop_train_data = np.array(crop_train_data)\n",
        "greyscale_crop_train_data = np.array(greyscale_crop_train_data)\n",
        "train_data = np.array(train_data)\n",
        "greyscale_train_data = np.array(greyscale_train_data)\n",
        "\n",
        "print(\"Cropped Testing Data Shape:\", crop_train_data.shape)\n",
        "print(\"Cropped Greyscale Testing Data Shape:\", greyscale_crop_train_data.shape)\n",
        "print(\"Testing Data Shape:\", train_data.shape)\n",
        "print(\"Greyscale Testing Data Shape:\", greyscale_train_data.shape)\n",
        "print(\"Training Label Shape:\", train_labels.shape)\n"
      ],
      "metadata": {
        "id": "B3geOI3Lgffh",
        "colab": {
          "base_uri": "https://localhost:8080/"
        },
        "outputId": "ffde1af9-39a9-4848-d5af-97f4489fe978"
      },
      "execution_count": null,
      "outputs": [
        {
          "output_type": "stream",
          "name": "stdout",
          "text": [
            "Cropped Testing Data Shape: (39209, 30, 30, 3)\n",
            "Cropped Greyscale Testing Data Shape: (39209, 30, 30)\n",
            "Testing Data Shape: (39209, 30, 30, 3)\n",
            "Greyscale Testing Data Shape: (39209, 30, 30, 3)\n",
            "Training Label Shape: (39209,)\n"
          ]
        }
      ]
    },
    {
      "cell_type": "markdown",
      "metadata": {
        "id": "eJ9Cw3kwdS2r"
      },
      "source": [
        "2. Shuffle training data and normalize"
      ]
    },
    {
      "cell_type": "code",
      "execution_count": null,
      "metadata": {
        "id": "N-9TBNq9dDFP"
      },
      "outputs": [],
      "source": [
        "shuffle_indexes = np.arange(train_labels.shape[0]) #return numpy array [0,1,2,...,39206,39207,39208]\n",
        "# image_data.shape = (39209, 30, 30, 3)\n",
        "rng = np.random.default_rng()\n",
        "rng.shuffle(shuffle_indexes)\n",
        "np.random.shuffle(shuffle_indexes) # shuffles index\n",
        "\n",
        "# shuffles the data with shuffled indices\n",
        "image_data = train_data[shuffle_indexes]\n",
        "image_labels = train_labels[shuffle_indexes]\n",
        "grey_data = greyscale_train_data[shuffle_indexes]\n",
        "\n",
        "X = image_data/255\n",
        "y = image_labels\n",
        "grey_X_train = grey_data/255\n",
        "\n"
      ]
    },
    {
      "cell_type": "markdown",
      "metadata": {
        "id": "Whh1mEWldWnO"
      },
      "source": [
        "3. Training and validation split"
      ]
    },
    {
      "cell_type": "code",
      "execution_count": null,
      "metadata": {
        "id": "aJQvIUtQdZMR"
      },
      "outputs": [],
      "source": [
        "X_train, X_val, y_train, y_val = train_test_split(X, y, test_size=0.20, random_state=42)"
      ]
    },
    {
      "cell_type": "markdown",
      "source": [
        "4. One hot encoding labels"
      ],
      "metadata": {
        "id": "HdTLQ9EZir96"
      }
    },
    {
      "cell_type": "code",
      "source": [
        "print(\"Shape before one-hot encoding:\", y_train.shape, y_val.shape)\n",
        "\n",
        "y_train = tf.keras.utils.to_categorical(y_train, NUM_CLASSES)\n",
        "y_val = tf.keras.utils.to_categorical(y_val, NUM_CLASSES)\n",
        "\n",
        "print(\"Shape after one-hot encoding:\", y_train.shape, y_val.shape)"
      ],
      "metadata": {
        "id": "-9umpZFpitqB",
        "colab": {
          "base_uri": "https://localhost:8080/"
        },
        "outputId": "22c22094-33a7-45f5-ae0c-bf12cf5330c8"
      },
      "execution_count": null,
      "outputs": [
        {
          "output_type": "stream",
          "name": "stdout",
          "text": [
            "Shape before one-hot encoding: (31367,) (7842,)\n",
            "Shape after one-hot encoding: (31367, 43) (7842, 43)\n"
          ]
        }
      ]
    },
    {
      "cell_type": "markdown",
      "source": [
        "5. Making the model\n",
        "\n",
        "\n",
        "\n",
        "> Sequential model is used for a plain stack of layers where each layer has exactly one input and output tensor.\n",
        "\n",
        "> Dropouts are used to prevent overfitting. A technique where randomly selected neurons are dropped out.\n",
        "\n",
        "*   use small of 20% to 50%\n",
        "*   use larger networks since dropout works better on larger networks\n",
        "* Use Dropout on incoming (visible) as well as hidden units. Application of Dropout at each layer of the network has shown good results.\n",
        "* use a large learning rate with decay and a large momentum. Increase your learning rate by a factor of 10 to 100 and use a high momentum value of 0.9 or 0.99.\n",
        "* Constrain the size of network weights. A large learning rate can result in very large network weights. Imposing a constraint on the size of network weights, such as max-norm regularization, with a size of 4 or 5 has been shown to improve results."
      ],
      "metadata": {
        "id": "0owqVyYDkcJG"
      }
    },
    {
      "cell_type": "code",
      "source": [
        "data_augmentation = tf.keras.Sequential([\n",
        "  layers.RandomRotation(0.2),\n",
        "  layers.RandomZoom(0.15),\n",
        "  layers.RandomTranslation(0.1, 0.1)\n",
        "])\n",
        "\n",
        "model = Sequential()\n",
        "# Data Augmentation layers\n",
        "# model.add(data_augmentation)\n",
        "# CNN layer 1\n",
        "model.add(Conv2D(filters=25, kernel_size=(5,5), input_shape=(IMG_HEIGHT,IMG_WIDTH,3)))\n",
        "model.add(LeakyReLU(alpha=0.01))\n",
        "model.add(Conv2D(filters=25, kernel_size=(5,5)))\n",
        "model.add(LeakyReLU(alpha=0.01))\n",
        "model.add(MaxPool2D(pool_size=(2,2)))\n",
        "model.add(BatchNormalization(axis=-1))\n",
        "# model.add(Dropout(rate=0.2)) # added dropout\n",
        "\n",
        "\n",
        "# CNN layer 2\n",
        "model.add(Conv2D(filters=50, kernel_size=(3,3)))\n",
        "model.add(LeakyReLU(alpha=0.01))\n",
        "model.add(Conv2D(filters=50, kernel_size=(3,3)))\n",
        "model.add(LeakyReLU(alpha=0.01))\n",
        "model.add(MaxPool2D(pool_size=(2,2)))\n",
        "model.add(BatchNormalization(axis=-1))\n",
        "model.add(Dropout(rate=0.3))\n",
        "\n",
        "model.add(Flatten())\n",
        "model.add(Dense(512))\n",
        "model.add(LeakyReLU(alpha=0.01))\n",
        "keras.layers.BatchNormalization()\n",
        "model.add(Dropout(rate=0.5))\n",
        "model.add(Dense(43, activation='softmax'))"
      ],
      "metadata": {
        "id": "SY7kFM1sj5Tl"
      },
      "execution_count": null,
      "outputs": []
    },
    {
      "cell_type": "code",
      "source": [
        "model.compile(optimizer='adam',\n",
        "              loss=tf.keras.losses.CategoricalCrossentropy(from_logits=True),\n",
        "              metrics=['accuracy'])"
      ],
      "metadata": {
        "id": "KOI9Q3pylFal"
      },
      "execution_count": null,
      "outputs": []
    },
    {
      "cell_type": "code",
      "source": [
        "model.build((None, IMG_HEIGHT, IMG_WIDTH, 3))\n",
        "model.summary()"
      ],
      "metadata": {
        "id": "uZKLJeC3lJ2Z",
        "colab": {
          "base_uri": "https://localhost:8080/"
        },
        "outputId": "a4655eb8-1681-41dd-d7d1-e6ad19553e38"
      },
      "execution_count": null,
      "outputs": [
        {
          "output_type": "stream",
          "name": "stdout",
          "text": [
            "Model: \"sequential_27\"\n",
            "_________________________________________________________________\n",
            " Layer (type)                Output Shape              Param #   \n",
            "=================================================================\n",
            " conv2d_52 (Conv2D)          (None, 26, 26, 25)        1900      \n",
            "                                                                 \n",
            " leaky_re_lu_60 (LeakyReLU)  (None, 26, 26, 25)        0         \n",
            "                                                                 \n",
            " conv2d_53 (Conv2D)          (None, 22, 22, 25)        15650     \n",
            "                                                                 \n",
            " leaky_re_lu_61 (LeakyReLU)  (None, 22, 22, 25)        0         \n",
            "                                                                 \n",
            " max_pooling2d_28 (MaxPoolin  (None, 11, 11, 25)       0         \n",
            " g2D)                                                            \n",
            "                                                                 \n",
            " batch_normalization_36 (Bat  (None, 11, 11, 25)       100       \n",
            " chNormalization)                                                \n",
            "                                                                 \n",
            " conv2d_54 (Conv2D)          (None, 9, 9, 50)          11300     \n",
            "                                                                 \n",
            " leaky_re_lu_62 (LeakyReLU)  (None, 9, 9, 50)          0         \n",
            "                                                                 \n",
            " conv2d_55 (Conv2D)          (None, 7, 7, 50)          22550     \n",
            "                                                                 \n",
            " leaky_re_lu_63 (LeakyReLU)  (None, 7, 7, 50)          0         \n",
            "                                                                 \n",
            " max_pooling2d_29 (MaxPoolin  (None, 3, 3, 50)         0         \n",
            " g2D)                                                            \n",
            "                                                                 \n",
            " batch_normalization_37 (Bat  (None, 3, 3, 50)         200       \n",
            " chNormalization)                                                \n",
            "                                                                 \n",
            " dropout_28 (Dropout)        (None, 3, 3, 50)          0         \n",
            "                                                                 \n",
            " flatten_14 (Flatten)        (None, 450)               0         \n",
            "                                                                 \n",
            " dense_28 (Dense)            (None, 512)               230912    \n",
            "                                                                 \n",
            " leaky_re_lu_64 (LeakyReLU)  (None, 512)               0         \n",
            "                                                                 \n",
            " dropout_29 (Dropout)        (None, 512)               0         \n",
            "                                                                 \n",
            " dense_29 (Dense)            (None, 43)                22059     \n",
            "                                                                 \n",
            "=================================================================\n",
            "Total params: 304,671\n",
            "Trainable params: 304,521\n",
            "Non-trainable params: 150\n",
            "_________________________________________________________________\n"
          ]
        }
      ]
    },
    {
      "cell_type": "markdown",
      "source": [
        "6. Train model"
      ],
      "metadata": {
        "id": "iH3jybAAlTiK"
      }
    },
    {
      "cell_type": "code",
      "source": [
        "epochs=30\n",
        "history = model.fit(\n",
        "  x = X_train,\n",
        "  y = y_train,\n",
        "  batch_size=32, # number of training examples used in one epoch \n",
        "  validation_data=(X_val, y_val),\n",
        "  epochs=epochs # epoch is one complete pass through training data\n",
        ")"
      ],
      "metadata": {
        "id": "3d9roIgElSEp",
        "colab": {
          "base_uri": "https://localhost:8080/"
        },
        "outputId": "2ba674e1-8d83-4132-fe2f-8940dc1c26a7"
      },
      "execution_count": null,
      "outputs": [
        {
          "output_type": "stream",
          "name": "stdout",
          "text": [
            "Epoch 1/30\n"
          ]
        },
        {
          "output_type": "stream",
          "name": "stderr",
          "text": [
            "/usr/local/lib/python3.7/dist-packages/tensorflow/python/util/dispatch.py:1082: UserWarning: \"`categorical_crossentropy` received `from_logits=True`, but the `output` argument was produced by a sigmoid or softmax activation and thus does not represent logits. Was this intended?\"\n",
            "  return dispatch_target(*args, **kwargs)\n"
          ]
        },
        {
          "output_type": "stream",
          "name": "stdout",
          "text": [
            "981/981 [==============================] - 9s 7ms/step - loss: 0.6331 - accuracy: 0.8266 - val_loss: 0.0893 - val_accuracy: 0.9731\n",
            "Epoch 2/30\n",
            "981/981 [==============================] - 6s 6ms/step - loss: 0.1214 - accuracy: 0.9637 - val_loss: 0.0611 - val_accuracy: 0.9820\n",
            "Epoch 3/30\n",
            "981/981 [==============================] - 6s 6ms/step - loss: 0.0840 - accuracy: 0.9742 - val_loss: 0.0318 - val_accuracy: 0.9918\n",
            "Epoch 4/30\n",
            "981/981 [==============================] - 6s 6ms/step - loss: 0.0668 - accuracy: 0.9795 - val_loss: 0.0404 - val_accuracy: 0.9881\n",
            "Epoch 5/30\n",
            "981/981 [==============================] - 6s 6ms/step - loss: 0.0624 - accuracy: 0.9818 - val_loss: 0.0278 - val_accuracy: 0.9918\n",
            "Epoch 6/30\n",
            "981/981 [==============================] - 6s 6ms/step - loss: 0.0516 - accuracy: 0.9856 - val_loss: 0.0294 - val_accuracy: 0.9920\n",
            "Epoch 7/30\n",
            "981/981 [==============================] - 6s 6ms/step - loss: 0.0539 - accuracy: 0.9843 - val_loss: 0.0418 - val_accuracy: 0.9901\n",
            "Epoch 8/30\n",
            "981/981 [==============================] - 6s 6ms/step - loss: 0.0382 - accuracy: 0.9892 - val_loss: 0.0484 - val_accuracy: 0.9866\n",
            "Epoch 9/30\n",
            "981/981 [==============================] - 6s 6ms/step - loss: 0.0393 - accuracy: 0.9882 - val_loss: 0.0325 - val_accuracy: 0.9926\n",
            "Epoch 10/30\n",
            "981/981 [==============================] - 6s 6ms/step - loss: 0.0421 - accuracy: 0.9876 - val_loss: 0.0230 - val_accuracy: 0.9948\n",
            "Epoch 11/30\n",
            "981/981 [==============================] - 6s 6ms/step - loss: 0.0364 - accuracy: 0.9902 - val_loss: 0.0286 - val_accuracy: 0.9909\n",
            "Epoch 12/30\n",
            "981/981 [==============================] - 6s 6ms/step - loss: 0.0319 - accuracy: 0.9909 - val_loss: 0.0254 - val_accuracy: 0.9943\n",
            "Epoch 13/30\n",
            "981/981 [==============================] - 5s 6ms/step - loss: 0.0266 - accuracy: 0.9917 - val_loss: 0.0209 - val_accuracy: 0.9949\n",
            "Epoch 14/30\n",
            "981/981 [==============================] - 6s 6ms/step - loss: 0.0325 - accuracy: 0.9907 - val_loss: 0.0138 - val_accuracy: 0.9963\n",
            "Epoch 15/30\n",
            "981/981 [==============================] - 7s 7ms/step - loss: 0.0217 - accuracy: 0.9938 - val_loss: 0.0245 - val_accuracy: 0.9948\n",
            "Epoch 16/30\n",
            "981/981 [==============================] - 6s 6ms/step - loss: 0.0304 - accuracy: 0.9919 - val_loss: 0.0189 - val_accuracy: 0.9957\n",
            "Epoch 17/30\n",
            "981/981 [==============================] - 6s 6ms/step - loss: 0.0272 - accuracy: 0.9929 - val_loss: 0.0178 - val_accuracy: 0.9969\n",
            "Epoch 18/30\n",
            "981/981 [==============================] - 6s 6ms/step - loss: 0.0188 - accuracy: 0.9947 - val_loss: 0.0237 - val_accuracy: 0.9958\n",
            "Epoch 19/30\n",
            "981/981 [==============================] - 6s 6ms/step - loss: 0.0218 - accuracy: 0.9938 - val_loss: 0.0195 - val_accuracy: 0.9953\n",
            "Epoch 20/30\n",
            "981/981 [==============================] - 6s 6ms/step - loss: 0.0249 - accuracy: 0.9934 - val_loss: 0.0217 - val_accuracy: 0.9952\n",
            "Epoch 21/30\n",
            "981/981 [==============================] - 6s 6ms/step - loss: 0.0197 - accuracy: 0.9938 - val_loss: 0.0171 - val_accuracy: 0.9972\n",
            "Epoch 22/30\n",
            "981/981 [==============================] - 6s 6ms/step - loss: 0.0187 - accuracy: 0.9944 - val_loss: 0.0192 - val_accuracy: 0.9977\n",
            "Epoch 23/30\n",
            "981/981 [==============================] - 6s 6ms/step - loss: 0.0258 - accuracy: 0.9930 - val_loss: 0.0145 - val_accuracy: 0.9966\n",
            "Epoch 24/30\n",
            "981/981 [==============================] - 6s 6ms/step - loss: 0.0167 - accuracy: 0.9958 - val_loss: 0.0136 - val_accuracy: 0.9977\n",
            "Epoch 25/30\n",
            "981/981 [==============================] - 6s 6ms/step - loss: 0.0158 - accuracy: 0.9956 - val_loss: 0.0294 - val_accuracy: 0.9950\n",
            "Epoch 26/30\n",
            "981/981 [==============================] - 6s 6ms/step - loss: 0.0185 - accuracy: 0.9953 - val_loss: 0.0169 - val_accuracy: 0.9972\n",
            "Epoch 27/30\n",
            "981/981 [==============================] - 6s 6ms/step - loss: 0.0162 - accuracy: 0.9955 - val_loss: 0.0136 - val_accuracy: 0.9976\n",
            "Epoch 28/30\n",
            "981/981 [==============================] - 6s 6ms/step - loss: 0.0169 - accuracy: 0.9954 - val_loss: 0.0204 - val_accuracy: 0.9960\n",
            "Epoch 29/30\n",
            "981/981 [==============================] - 6s 6ms/step - loss: 0.0188 - accuracy: 0.9955 - val_loss: 0.0118 - val_accuracy: 0.9964\n",
            "Epoch 30/30\n",
            "981/981 [==============================] - 6s 6ms/step - loss: 0.0145 - accuracy: 0.9962 - val_loss: 0.0080 - val_accuracy: 0.9974\n"
          ]
        }
      ]
    },
    {
      "cell_type": "markdown",
      "source": [
        "visualize training results"
      ],
      "metadata": {
        "id": "9GVAK_64meii"
      }
    },
    {
      "cell_type": "code",
      "source": [
        "acc = history.history['accuracy']\n",
        "val_acc = history.history['val_accuracy']\n",
        "\n",
        "loss = history.history['loss']\n",
        "val_loss = history.history['val_loss']\n",
        "\n",
        "epochs_range = range(epochs)\n",
        "\n",
        "plt.figure(figsize=(8, 8))\n",
        "plt.subplot(1, 2, 1)\n",
        "plt.plot(epochs_range, acc, label='Training Accuracy')\n",
        "plt.plot(epochs_range, val_acc, label='Validation Accuracy')\n",
        "plt.legend(loc='lower right')\n",
        "plt.title('Training and Validation Accuracy')\n",
        "\n",
        "plt.subplot(1, 2, 2)\n",
        "plt.plot(epochs_range, loss, label='Training Loss')\n",
        "plt.plot(epochs_range, val_loss, label='Validation Loss')\n",
        "plt.legend(loc='upper right')\n",
        "plt.title('Training and Validation Loss')\n",
        "plt.show()"
      ],
      "metadata": {
        "id": "WLihyxAMmbrh",
        "colab": {
          "base_uri": "https://localhost:8080/",
          "height": 499
        },
        "outputId": "2d0e97de-4322-462a-8121-87aa54a312b6"
      },
      "execution_count": null,
      "outputs": [
        {
          "output_type": "display_data",
          "data": {
            "text/plain": [
              "<Figure size 576x576 with 2 Axes>"
            ],
            "image/png": "[encoded data removed]"
          },
          "metadata": {
            "needs_background": "light"
          }
        }
      ]
    },
    {
      "cell_type": "code",
      "source": [
        "test = pd.read_csv(DATA_DIR + '/Test.csv')\n",
        "\n",
        "labels = test[\"ClassId\"].values\n",
        "imgs = test[\"Path\"].values\n",
        "crop_coords = test[['Roi.X1', 'Roi.Y1', 'Roi.X2', 'Roi.Y2']]\n",
        "\n",
        "data = []\n",
        "greyscale_data = []\n",
        "crop_data = []\n",
        "crop_grey_dat = []\n",
        "\n",
        "\n",
        "#read in test data\n",
        "for index, row in test.iterrows():\n",
        "    try:\n",
        "        image = cv2.imread(DATA_DIR + '/' + row['Path'])\n",
        "        image_fromarray = Image.fromarray(image, 'RGB')\n",
        "        cropped_img = image_fromarray.crop((row['Roi.X1'], row['Roi.Y1'], row['Roi.X2'], row['Roi.Y2']))\n",
        "        resize_image = image_fromarray.resize((IMG_HEIGHT, IMG_WIDTH))\n",
        "        crop_resize = cropped_img.resize((IMG_HEIGHT, IMG_WIDTH))\n",
        "        greyscale_img = ImageOps.grayscale(resize_image)\n",
        "        crop_grey = ImageOps.grayscale(crop_resize)\n",
        "        data.append(np.array(resize_image))\n",
        "        greyscale_data.append(np.array(greyscale_img))\n",
        "        crop_data.append(np.array(crop_resize))\n",
        "        crop_grey_dat.append(np.array(crop_grey))\n",
        "    except:\n",
        "        print(\"Error in \" + img)\n",
        "\n",
        "X_test = np.array(data)\n",
        "y_test = labels\n",
        "grey_X_test = np.array(greyscale_data)\n",
        "crop_X_test = np.array(crop_data)\n",
        "crop_g_X_test = np.array(crop_grey_dat)\n"
      ],
      "metadata": {
        "id": "ykxkpvB8slIV"
      },
      "execution_count": null,
      "outputs": []
    },
    {
      "cell_type": "code",
      "source": [
        "prediction = model.predict(x=X_test)\n",
        "prediction\n",
        "preds = np.argmax(prediction, axis=1)"
      ],
      "metadata": {
        "id": "6YdWRhl9rA_Y"
      },
      "execution_count": null,
      "outputs": []
    },
    {
      "cell_type": "code",
      "source": [
        "from sklearn.metrics import classification_report, confusion_matrix, f1_score\n",
        "\n",
        "print(classification_report(test['ClassId'], preds))"
      ],
      "metadata": {
        "id": "v6cLzbHdtOHJ",
        "colab": {
          "base_uri": "https://localhost:8080/"
        },
        "outputId": "e73f9fa4-fd7e-4833-d35f-b5064640aefe"
      },
      "execution_count": null,
      "outputs": [
        {
          "output_type": "stream",
          "name": "stdout",
          "text": [
            "              precision    recall  f1-score   support\n",
            "\n",
            "           0       0.67      1.00      0.80        60\n",
            "           1       0.83      1.00      0.91       720\n",
            "           2       0.95      0.94      0.95       750\n",
            "           3       1.00      0.78      0.87       450\n",
            "           4       0.99      0.94      0.96       660\n",
            "           5       0.95      0.86      0.90       630\n",
            "           6       1.00      0.15      0.26       150\n",
            "           7       1.00      0.62      0.76       450\n",
            "           8       1.00      0.63      0.77       450\n",
            "           9       1.00      0.60      0.75       480\n",
            "          10       0.97      0.95      0.96       660\n",
            "          11       0.65      0.99      0.79       420\n",
            "          12       0.88      0.98      0.93       690\n",
            "          13       1.00      0.96      0.98       720\n",
            "          14       1.00      0.95      0.97       270\n",
            "          15       0.93      0.84      0.88       210\n",
            "          16       0.64      1.00      0.78       150\n",
            "          17       0.84      1.00      0.91       360\n",
            "          18       1.00      0.70      0.82       390\n",
            "          19       0.98      1.00      0.99        60\n",
            "          20       0.99      0.99      0.99        90\n",
            "          21       0.96      0.59      0.73        90\n",
            "          22       1.00      0.72      0.83       120\n",
            "          23       0.68      0.95      0.80       150\n",
            "          24       0.98      0.66      0.79        90\n",
            "          25       0.96      0.78      0.86       480\n",
            "          26       0.94      0.80      0.86       180\n",
            "          27       1.00      0.32      0.48        60\n",
            "          28       1.00      0.93      0.96       150\n",
            "          29       0.99      0.92      0.95        90\n",
            "          30       1.00      0.19      0.32       150\n",
            "          31       1.00      0.94      0.97       270\n",
            "          32       0.00      0.00      0.00        60\n",
            "          33       0.95      1.00      0.97       210\n",
            "          34       0.40      0.99      0.57       120\n",
            "          35       0.77      0.98      0.87       390\n",
            "          36       0.99      0.88      0.93       120\n",
            "          37       0.94      0.97      0.95        60\n",
            "          38       0.84      0.96      0.89       690\n",
            "          39       0.68      0.97      0.80        90\n",
            "          40       0.21      0.91      0.34        90\n",
            "          41       0.43      0.80      0.56        60\n",
            "          42       0.51      0.92      0.66        90\n",
            "\n",
            "    accuracy                           0.86     12630\n",
            "   macro avg       0.85      0.81      0.79     12630\n",
            "weighted avg       0.91      0.86      0.86     12630\n",
            "\n"
          ]
        },
        {
          "output_type": "stream",
          "name": "stderr",
          "text": [
            "/usr/local/lib/python3.7/dist-packages/sklearn/metrics/_classification.py:1318: UndefinedMetricWarning: Precision and F-score are ill-defined and being set to 0.0 in labels with no predicted samples. Use `zero_division` parameter to control this behavior.\n",
            "  _warn_prf(average, modifier, msg_start, len(result))\n",
            "/usr/local/lib/python3.7/dist-packages/sklearn/metrics/_classification.py:1318: UndefinedMetricWarning: Precision and F-score are ill-defined and being set to 0.0 in labels with no predicted samples. Use `zero_division` parameter to control this behavior.\n",
            "  _warn_prf(average, modifier, msg_start, len(result))\n",
            "/usr/local/lib/python3.7/dist-packages/sklearn/metrics/_classification.py:1318: UndefinedMetricWarning: Precision and F-score are ill-defined and being set to 0.0 in labels with no predicted samples. Use `zero_division` parameter to control this behavior.\n",
            "  _warn_prf(average, modifier, msg_start, len(result))\n"
          ]
        }
      ]
    },
    {
      "cell_type": "code",
      "source": [
        ""
      ],
      "metadata": {
        "id": "KDIqta_Ws-CT"
      },
      "execution_count": null,
      "outputs": []
    }
  ],
  "metadata": {
    "accelerator": "GPU",
    "colab": {
      "collapsed_sections": [],
      "name": "GTSRB_CNN.ipynb",
      "provenance": [],
      "include_colab_link": true
    },
    "gpuClass": "standard",
    "kernelspec": {
      "display_name": "Python 3",
      "name": "python3"
    },
    "language_info": {
      "name": "python"
    }
  },
  "nbformat": 4,
  "nbformat_minor": 0
}