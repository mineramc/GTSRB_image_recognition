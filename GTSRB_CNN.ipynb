{
  "cells": [
    {
      "cell_type": "markdown",
      "metadata": {
        "id": "view-in-github",
        "colab_type": "text"
      },
      "source": [
        "<a href=\"https://colab.research.google.com/github/mineramc/GTSRB_image_recognition/blob/master/GTSRB_CNN.ipynb\" target=\"_parent\"><img src=\"https://colab.research.google.com/assets/colab-badge.svg\" alt=\"Open In Colab\"/></a>"
      ]
    },
    {
      "cell_type": "markdown",
      "source": [
        "# Load Data from kaggle\n",
        "\n",
        "1. Go to your account, Scroll to API section and Click Expire API Token to remove previous tokens\n",
        "\n",
        "2. Click on Create New API Token - It will download kaggle.json file on your machine. Load this file to content folder in colab\n",
        "\n",
        "3. Go to your Google Colab project file and run the following commands:"
      ],
      "metadata": {
        "id": "DblB-CHnfAZU"
      }
    },
    {
      "cell_type": "code",
      "execution_count": 16,
      "metadata": {
        "colab": {
          "base_uri": "https://localhost:8080/"
        },
        "id": "KMMpHV0xaOVx",
        "outputId": "9201d4bf-6a5c-4a03-ff05-2c812925a4b6"
      },
      "outputs": [
        {
          "output_type": "stream",
          "name": "stdout",
          "text": [
            "Looking in indexes: https://pypi.org/simple, https://us-python.pkg.dev/colab-wheels/public/simple/\n",
            "Requirement already satisfied: kaggle in /usr/local/lib/python3.7/dist-packages (1.5.12)\n",
            "Requirement already satisfied: requests in /usr/local/lib/python3.7/dist-packages (from kaggle) (2.23.0)\n",
            "Requirement already satisfied: python-slugify in /usr/local/lib/python3.7/dist-packages (from kaggle) (6.1.2)\n",
            "Requirement already satisfied: certifi in /usr/local/lib/python3.7/dist-packages (from kaggle) (2022.6.15)\n",
            "Requirement already satisfied: tqdm in /usr/local/lib/python3.7/dist-packages (from kaggle) (4.64.0)\n",
            "Requirement already satisfied: urllib3 in /usr/local/lib/python3.7/dist-packages (from kaggle) (1.24.3)\n",
            "Requirement already satisfied: six>=1.10 in /usr/local/lib/python3.7/dist-packages (from kaggle) (1.15.0)\n",
            "Requirement already satisfied: python-dateutil in /usr/local/lib/python3.7/dist-packages (from kaggle) (2.8.2)\n",
            "Requirement already satisfied: text-unidecode>=1.3 in /usr/local/lib/python3.7/dist-packages (from python-slugify->kaggle) (1.3)\n",
            "Requirement already satisfied: idna<3,>=2.5 in /usr/local/lib/python3.7/dist-packages (from requests->kaggle) (2.10)\n",
            "Requirement already satisfied: chardet<4,>=3.0.2 in /usr/local/lib/python3.7/dist-packages (from requests->kaggle) (3.0.4)\n"
          ]
        }
      ],
      "source": [
        "! pip install kaggle;"
      ]
    },
    {
      "cell_type": "code",
      "execution_count": 17,
      "metadata": {
        "id": "HOYAvaQaaTu1",
        "colab": {
          "base_uri": "https://localhost:8080/"
        },
        "outputId": "10f072a9-f4ce-44df-a456-566ce1ef9c83"
      },
      "outputs": [
        {
          "output_type": "stream",
          "name": "stdout",
          "text": [
            "mkdir: cannot create directory ‘/root/.kaggle’: File exists\n"
          ]
        }
      ],
      "source": [
        "! mkdir ~/.kaggle"
      ]
    },
    {
      "cell_type": "code",
      "execution_count": 18,
      "metadata": {
        "id": "4y-X5eyFaZJ1"
      },
      "outputs": [],
      "source": [
        "! cp kaggle.json ~/.kaggle/"
      ]
    },
    {
      "cell_type": "code",
      "execution_count": 19,
      "metadata": {
        "id": "FKsjmAUvaptL"
      },
      "outputs": [],
      "source": [
        "! chmod 600 ~/.kaggle/kaggle.json"
      ]
    },
    {
      "cell_type": "code",
      "execution_count": 20,
      "metadata": {
        "colab": {
          "base_uri": "https://localhost:8080/"
        },
        "id": "08WHHsb2apuu",
        "outputId": "96e5bbd1-b663-4d25-abb7-906f421ead4d"
      },
      "outputs": [
        {
          "output_type": "stream",
          "name": "stdout",
          "text": [
            "Downloading gtsrb-german-traffic-sign.zip to /content\n",
            " 96% 589M/612M [00:02<00:00, 254MB/s]\n",
            "100% 612M/612M [00:02<00:00, 243MB/s]\n"
          ]
        }
      ],
      "source": [
        "! kaggle datasets download -d meowmeowmeowmeowmeow/gtsrb-german-traffic-sign"
      ]
    },
    {
      "cell_type": "code",
      "execution_count": 21,
      "metadata": {
        "id": "KbaVihVKcIqK",
        "colab": {
          "base_uri": "https://localhost:8080/"
        },
        "outputId": "4dc5f81b-d30f-4557-9bba-665c7d737858"
      },
      "outputs": [
        {
          "output_type": "stream",
          "name": "stdout",
          "text": [
            "mkdir: cannot create directory ‘data’: File exists\n"
          ]
        }
      ],
      "source": [
        "! mkdir data"
      ]
    },
    {
      "cell_type": "code",
      "execution_count": 22,
      "metadata": {
        "id": "3nP3mCXwcJ8V"
      },
      "outputs": [],
      "source": [
        "! unzip gtsrb-german-traffic-sign.zip -d data > /dev/null 2>&1"
      ]
    },
    {
      "cell_type": "markdown",
      "metadata": {
        "id": "iV-fGXOPbi75"
      },
      "source": [
        "# Steps to set up CNN\n",
        "\n",
        "1. Collect training data\n",
        "2. Shuffle training data and normalize data\n",
        "3. Split train and validation data\n",
        "4. One hot encoding labels (categorical data)\n",
        "5. Make model\n",
        "6. Augment data and train model\n",
        "7. Evaluate model\n",
        "8. Load test data and run predictions\n",
        "9. Visualize Confusion Matrix\n",
        "10. Classification Report\n",
        "11. Prediction on Test Data"
      ]
    },
    {
      "cell_type": "markdown",
      "source": [
        "# import libraries and set global variables"
      ],
      "metadata": {
        "id": "9mr5mjSKfjaW"
      }
    },
    {
      "cell_type": "code",
      "source": [
        "import numpy as np # linear algebra\n",
        "import pandas as pd # data processing, CSV file I/O (e.g. pd.read_csv)\n",
        "import matplotlib.pyplot as plt # for data visualization\n",
        "import seaborn as sns # for statistical data visualization\n",
        "import tensorflow as tf\n",
        "import os\n",
        "import cv2\n",
        "\n",
        "from sklearn.metrics import accuracy_score,confusion_matrix,classification_report\n",
        "from sklearn.model_selection import train_test_split\n",
        "from tensorflow import keras\n",
        "from tensorflow.keras import layers\n",
        "from tensorflow.keras.models import Sequential\n",
        "from tensorflow.keras.preprocessing.image import ImageDataGenerator # data augmentation\n",
        "from tensorflow.keras.optimizers import Adam\n",
        "from tensorflow.keras.layers import Conv2D, LeakyReLU, MaxPool2D, BatchNormalization, Dropout, Flatten, Dense\n",
        "from PIL import Image, ImageOps"
      ],
      "metadata": {
        "id": "lVgZBRBkfUMP"
      },
      "execution_count": 24,
      "outputs": []
    },
    {
      "cell_type": "code",
      "source": [
        "NUM_CLASSES = 43\n",
        "IMG_HEIGHT = 32\n",
        "IMG_WIDTH = 32\n",
        "\n",
        "DATA_DIR = \"/content/data\""
      ],
      "metadata": {
        "id": "-odTrzqrfiXo"
      },
      "execution_count": 99,
      "outputs": []
    },
    {
      "cell_type": "markdown",
      "metadata": {
        "id": "TaZUxT3KdQbC"
      },
      "source": [
        "1. Load training data"
      ]
    },
    {
      "cell_type": "code",
      "source": [
        "train_csv = os.path.join(DATA_DIR, \"Train.csv\")\n",
        "train_df = pd.read_csv(train_csv)\n",
        "train_df.head()\n",
        "\n",
        "greyscale_crop_train_data = []\n",
        "crop_train_data = []\n",
        "greyscale_train_data = []\n",
        "train_data = []\n",
        "train_labels = np.array(train_df['ClassId'])\n",
        "\n",
        "for _, row in train_df.iterrows():\n",
        "  img_path = os.path.join(DATA_DIR, row['Path'])\n",
        "  try:\n",
        "    img_arr = cv2.imread(img_path)\n",
        "    img = Image.fromarray(img_arr, 'RGB')\n",
        "\n",
        "\n",
        "    # Original data and greyscaled version of normal data\n",
        "    resize_image = img.resize((IMG_HEIGHT, IMG_WIDTH))\n",
        "    greyscale_image = ImageOps.grayscale(resize_image)\n",
        "    train_data.append(np.array(resize_image))\n",
        "    greyscale_train_data.append(np.array(resize_image))\n",
        "\n",
        "\n",
        "    # Crop images based on Roi.X, Roi.Y\n",
        "    # PIL's Image.crop() expects it in (left, upper, right, lower)\n",
        "    # Roi.X1 / Y1 are upper left, Roi.X2 / Y2 are lower right\n",
        "    cropped_img = img.crop((row['Roi.X1'], row['Roi.Y1'], row['Roi.X2'], row['Roi.Y2']))\n",
        "    resize_image = cropped_img.resize((IMG_HEIGHT, IMG_WIDTH))\n",
        "    greyscale_image = ImageOps.grayscale(resize_image)\n",
        "    crop_train_data.append(np.array(resize_image))\n",
        "    greyscale_crop_train_data.append(np.array(greyscale_image))\n",
        "\n",
        "    \n",
        "  except:\n",
        "    print(\"Error with importing image.\")\n",
        "\n",
        "crop_train_data = np.array(crop_train_data)\n",
        "greyscale_crop_train_data = np.array(greyscale_crop_train_data)\n",
        "train_data = np.array(train_data)\n",
        "greyscale_train_data = np.array(greyscale_train_data)\n",
        "\n",
        "print(\"Cropped Testing Data Shape:\", crop_train_data.shape)\n",
        "print(\"Cropped Greyscale Testing Data Shape:\", greyscale_crop_train_data.shape)\n",
        "print(\"Testing Data Shape:\", train_data.shape)\n",
        "print(\"Greyscale Testing Data Shape:\", greyscale_train_data.shape)\n",
        "print(\"Training Label Shape:\", train_labels.shape)\n"
      ],
      "metadata": {
        "id": "B3geOI3Lgffh",
        "colab": {
          "base_uri": "https://localhost:8080/"
        },
        "outputId": "45067c22-fd1e-4519-f970-ccbb579cef8a"
      },
      "execution_count": 100,
      "outputs": [
        {
          "output_type": "stream",
          "name": "stdout",
          "text": [
            "Cropped Testing Data Shape: (39209, 32, 32, 3)\n",
            "Cropped Greyscale Testing Data Shape: (39209, 32, 32)\n",
            "Testing Data Shape: (39209, 32, 32, 3)\n",
            "Greyscale Testing Data Shape: (39209, 32, 32, 3)\n",
            "Training Label Shape: (39209,)\n"
          ]
        }
      ]
    },
    {
      "cell_type": "markdown",
      "metadata": {
        "id": "eJ9Cw3kwdS2r"
      },
      "source": [
        "2. Shuffle training data and normalize"
      ]
    },
    {
      "cell_type": "code",
      "execution_count": 101,
      "metadata": {
        "id": "N-9TBNq9dDFP"
      },
      "outputs": [],
      "source": [
        "shuffle_indexes = np.arange(train_labels.shape[0]) #return numpy array [0,1,2,...,39206,39207,39208]\n",
        "# image_data.shape = (39209, 30, 30, 3)\n",
        "rng = np.random.default_rng()\n",
        "rng.shuffle(shuffle_indexes)\n",
        "np.random.shuffle(shuffle_indexes) # shuffles index\n",
        "\n",
        "# shuffles the data with shuffled indices\n",
        "image_data = train_data[shuffle_indexes]\n",
        "image_labels = train_labels[shuffle_indexes]\n",
        "grey_data = greyscale_train_data[shuffle_indexes]\n",
        "\n",
        "X = image_data/255\n",
        "y = image_labels\n",
        "grey_X_train = grey_data/255\n",
        "\n"
      ]
    },
    {
      "cell_type": "markdown",
      "metadata": {
        "id": "Whh1mEWldWnO"
      },
      "source": [
        "3. Training and validation split"
      ]
    },
    {
      "cell_type": "code",
      "execution_count": 102,
      "metadata": {
        "id": "aJQvIUtQdZMR"
      },
      "outputs": [],
      "source": [
        "X_train, X_val, y_train, y_val = train_test_split(X, y, test_size=0.20, random_state=42)"
      ]
    },
    {
      "cell_type": "markdown",
      "source": [
        "4. One hot encoding labels"
      ],
      "metadata": {
        "id": "HdTLQ9EZir96"
      }
    },
    {
      "cell_type": "code",
      "source": [
        "print(\"Shape before one-hot encoding:\", y_train.shape, y_val.shape)\n",
        "\n",
        "y_train = tf.keras.utils.to_categorical(y_train, NUM_CLASSES)\n",
        "y_val = tf.keras.utils.to_categorical(y_val, NUM_CLASSES)\n",
        "\n",
        "print(\"Shape after one-hot encoding:\", y_train.shape, y_val.shape)"
      ],
      "metadata": {
        "id": "-9umpZFpitqB",
        "colab": {
          "base_uri": "https://localhost:8080/"
        },
        "outputId": "77d8acbb-f91c-4e46-8f3a-1247d2fa3c6e"
      },
      "execution_count": 103,
      "outputs": [
        {
          "output_type": "stream",
          "name": "stdout",
          "text": [
            "Shape before one-hot encoding: (31367,) (7842,)\n",
            "Shape after one-hot encoding: (31367, 43) (7842, 43)\n"
          ]
        }
      ]
    },
    {
      "cell_type": "markdown",
      "source": [
        "5. Making the model\n",
        "\n",
        "\n",
        "\n",
        "> Sequential model is used for a plain stack of layers where each layer has exactly one input and output tensor.\n",
        "\n",
        "> Dropouts are used to prevent overfitting. A technique where randomly selected neurons are dropped out.\n",
        "\n",
        "*   use small of 20% to 50%\n",
        "*   use larger networks since dropout works better on larger networks\n",
        "* Use Dropout on incoming (visible) as well as hidden units. Application of Dropout at each layer of the network has shown good results.\n",
        "* use a large learning rate with decay and a large momentum. Increase your learning rate by a factor of 10 to 100 and use a high momentum value of 0.9 or 0.99.\n",
        "* Constrain the size of network weights. A large learning rate can result in very large network weights. Imposing a constraint on the size of network weights, such as max-norm regularization, with a size of 4 or 5 has been shown to improve results."
      ],
      "metadata": {
        "id": "0owqVyYDkcJG"
      }
    },
    {
      "cell_type": "code",
      "source": [
        "data_augmentation = tf.keras.Sequential([\n",
        "  layers.RandomRotation(0.2),\n",
        "  layers.RandomZoom(0.15),\n",
        "  layers.RandomTranslation(0.1, 0.1)\n",
        "])\n",
        "\n",
        "model = Sequential()\n",
        "# Data Augmentation layers\n",
        "# model.add(data_augmentation)\n",
        "# CNN layer 1\n",
        "model.add(Conv2D(filters=32, kernel_size=(3,3), input_shape=(IMG_HEIGHT,IMG_WIDTH,3)))\n",
        "model.add(LeakyReLU(alpha=0.01))\n",
        "model.add(Conv2D(filters=32, kernel_size=(3,3)))\n",
        "model.add(LeakyReLU(alpha=0.01))\n",
        "model.add(MaxPool2D(pool_size=(2,2)))\n",
        "model.add(BatchNormalization(axis=-1))\n",
        "#model.add(Dropout(rate=0.2)) # added dropout\n",
        "\n",
        "\n",
        "# CNN layer 2\n",
        "model.add(Conv2D(filters=50, kernel_size=(3,3)))\n",
        "model.add(LeakyReLU(alpha=0.01))\n",
        "model.add(Conv2D(filters=50, kernel_size=(3,3)))\n",
        "model.add(LeakyReLU(alpha=0.01))\n",
        "model.add(MaxPool2D(pool_size=(2,2)))\n",
        "model.add(BatchNormalization(axis=-1))\n",
        "model.add(Dropout(rate=0.3))\n",
        "\n",
        "model.add(Flatten())\n",
        "model.add(Dense(512))\n",
        "model.add(LeakyReLU(alpha=0.01))\n",
        "keras.layers.BatchNormalization()\n",
        "model.add(Dropout(rate=0.65))\n",
        "model.add(Dense(43, activation='softmax'))"
      ],
      "metadata": {
        "id": "SY7kFM1sj5Tl"
      },
      "execution_count": 171,
      "outputs": []
    },
    {
      "cell_type": "code",
      "source": [
        "model.compile(optimizer='adam',\n",
        "              loss=tf.keras.losses.CategoricalCrossentropy(from_logits=True),\n",
        "              metrics=['accuracy'])"
      ],
      "metadata": {
        "id": "KOI9Q3pylFal"
      },
      "execution_count": 172,
      "outputs": []
    },
    {
      "cell_type": "code",
      "source": [
        "model.build((None, IMG_HEIGHT, IMG_WIDTH, 3))\n",
        "model.summary()"
      ],
      "metadata": {
        "id": "uZKLJeC3lJ2Z",
        "colab": {
          "base_uri": "https://localhost:8080/"
        },
        "outputId": "a1104039-8a83-4774-b2f5-2a0e2f7a0e86"
      },
      "execution_count": 173,
      "outputs": [
        {
          "output_type": "stream",
          "name": "stdout",
          "text": [
            "Model: \"sequential_37\"\n",
            "_________________________________________________________________\n",
            " Layer (type)                Output Shape              Param #   \n",
            "=================================================================\n",
            " conv2d_61 (Conv2D)          (None, 30, 30, 32)        896       \n",
            "                                                                 \n",
            " leaky_re_lu_79 (LeakyReLU)  (None, 30, 30, 32)        0         \n",
            "                                                                 \n",
            " conv2d_62 (Conv2D)          (None, 28, 28, 32)        9248      \n",
            "                                                                 \n",
            " leaky_re_lu_80 (LeakyReLU)  (None, 28, 28, 32)        0         \n",
            "                                                                 \n",
            " max_pooling2d_36 (MaxPoolin  (None, 14, 14, 32)       0         \n",
            " g2D)                                                            \n",
            "                                                                 \n",
            " batch_normalization_54 (Bat  (None, 14, 14, 32)       128       \n",
            " chNormalization)                                                \n",
            "                                                                 \n",
            " conv2d_63 (Conv2D)          (None, 12, 12, 50)        14450     \n",
            "                                                                 \n",
            " leaky_re_lu_81 (LeakyReLU)  (None, 12, 12, 50)        0         \n",
            "                                                                 \n",
            " conv2d_64 (Conv2D)          (None, 10, 10, 50)        22550     \n",
            "                                                                 \n",
            " leaky_re_lu_82 (LeakyReLU)  (None, 10, 10, 50)        0         \n",
            "                                                                 \n",
            " max_pooling2d_37 (MaxPoolin  (None, 5, 5, 50)         0         \n",
            " g2D)                                                            \n",
            "                                                                 \n",
            " batch_normalization_55 (Bat  (None, 5, 5, 50)         200       \n",
            " chNormalization)                                                \n",
            "                                                                 \n",
            " dropout_49 (Dropout)        (None, 5, 5, 50)          0         \n",
            "                                                                 \n",
            " flatten_18 (Flatten)        (None, 1250)              0         \n",
            "                                                                 \n",
            " dense_36 (Dense)            (None, 512)               640512    \n",
            "                                                                 \n",
            " leaky_re_lu_83 (LeakyReLU)  (None, 512)               0         \n",
            "                                                                 \n",
            " dropout_50 (Dropout)        (None, 512)               0         \n",
            "                                                                 \n",
            " dense_37 (Dense)            (None, 43)                22059     \n",
            "                                                                 \n",
            "=================================================================\n",
            "Total params: 710,043\n",
            "Trainable params: 709,879\n",
            "Non-trainable params: 164\n",
            "_________________________________________________________________\n"
          ]
        }
      ]
    },
    {
      "cell_type": "markdown",
      "source": [
        "6. Train model"
      ],
      "metadata": {
        "id": "iH3jybAAlTiK"
      }
    },
    {
      "cell_type": "code",
      "source": [
        "epochs=30\n",
        "history = model.fit(\n",
        "  x = X_train,\n",
        "  y = y_train,\n",
        "  batch_size=32, # number of training examples used in one epoch \n",
        "  validation_data=(X_val, y_val),\n",
        "  epochs=epochs # epoch is one complete pass through training data\n",
        ")"
      ],
      "metadata": {
        "id": "3d9roIgElSEp",
        "colab": {
          "base_uri": "https://localhost:8080/"
        },
        "outputId": "21df8277-3678-4468-b9c2-be7f124bb152"
      },
      "execution_count": 174,
      "outputs": [
        {
          "output_type": "stream",
          "name": "stdout",
          "text": [
            "Epoch 1/30\n"
          ]
        },
        {
          "output_type": "stream",
          "name": "stderr",
          "text": [
            "/usr/local/lib/python3.7/dist-packages/tensorflow/python/util/dispatch.py:1082: UserWarning: \"`categorical_crossentropy` received `from_logits=True`, but the `output` argument was produced by a sigmoid or softmax activation and thus does not represent logits. Was this intended?\"\n",
            "  return dispatch_target(*args, **kwargs)\n"
          ]
        },
        {
          "output_type": "stream",
          "name": "stdout",
          "text": [
            "981/981 [==============================] - 7s 7ms/step - loss: 0.7779 - accuracy: 0.7947 - val_loss: 0.0553 - val_accuracy: 0.9847\n",
            "Epoch 2/30\n",
            "981/981 [==============================] - 5s 6ms/step - loss: 0.1409 - accuracy: 0.9568 - val_loss: 0.0639 - val_accuracy: 0.9841\n",
            "Epoch 3/30\n",
            "981/981 [==============================] - 5s 5ms/step - loss: 0.0954 - accuracy: 0.9724 - val_loss: 0.0404 - val_accuracy: 0.9898\n",
            "Epoch 4/30\n",
            "981/981 [==============================] - 5s 6ms/step - loss: 0.0980 - accuracy: 0.9722 - val_loss: 0.0669 - val_accuracy: 0.9815\n",
            "Epoch 5/30\n",
            "981/981 [==============================] - 5s 6ms/step - loss: 0.0709 - accuracy: 0.9809 - val_loss: 0.0244 - val_accuracy: 0.9927\n",
            "Epoch 6/30\n",
            "981/981 [==============================] - 5s 6ms/step - loss: 0.0657 - accuracy: 0.9807 - val_loss: 0.0349 - val_accuracy: 0.9897\n",
            "Epoch 7/30\n",
            "981/981 [==============================] - 6s 6ms/step - loss: 0.0672 - accuracy: 0.9822 - val_loss: 0.0201 - val_accuracy: 0.9959\n",
            "Epoch 8/30\n",
            "981/981 [==============================] - 5s 6ms/step - loss: 0.0524 - accuracy: 0.9863 - val_loss: 0.0316 - val_accuracy: 0.9923\n",
            "Epoch 9/30\n",
            "981/981 [==============================] - 6s 6ms/step - loss: 0.0441 - accuracy: 0.9877 - val_loss: 0.0184 - val_accuracy: 0.9953\n",
            "Epoch 10/30\n",
            "981/981 [==============================] - 5s 6ms/step - loss: 0.0466 - accuracy: 0.9879 - val_loss: 0.0172 - val_accuracy: 0.9957\n",
            "Epoch 11/30\n",
            "981/981 [==============================] - 5s 6ms/step - loss: 0.0506 - accuracy: 0.9873 - val_loss: 0.0128 - val_accuracy: 0.9966\n",
            "Epoch 12/30\n",
            "981/981 [==============================] - 6s 6ms/step - loss: 0.0429 - accuracy: 0.9897 - val_loss: 0.0179 - val_accuracy: 0.9964\n",
            "Epoch 13/30\n",
            "981/981 [==============================] - 6s 6ms/step - loss: 0.0343 - accuracy: 0.9905 - val_loss: 0.0239 - val_accuracy: 0.9963\n",
            "Epoch 14/30\n",
            "981/981 [==============================] - 5s 6ms/step - loss: 0.0307 - accuracy: 0.9919 - val_loss: 0.0278 - val_accuracy: 0.9944\n",
            "Epoch 15/30\n",
            "981/981 [==============================] - 5s 6ms/step - loss: 0.0371 - accuracy: 0.9910 - val_loss: 0.0232 - val_accuracy: 0.9963\n",
            "Epoch 16/30\n",
            "981/981 [==============================] - 5s 6ms/step - loss: 0.0313 - accuracy: 0.9919 - val_loss: 0.0212 - val_accuracy: 0.9971\n",
            "Epoch 17/30\n",
            "981/981 [==============================] - 5s 6ms/step - loss: 0.0313 - accuracy: 0.9922 - val_loss: 0.0189 - val_accuracy: 0.9968\n",
            "Epoch 18/30\n",
            "981/981 [==============================] - 6s 6ms/step - loss: 0.0300 - accuracy: 0.9926 - val_loss: 0.0163 - val_accuracy: 0.9971\n",
            "Epoch 19/30\n",
            "981/981 [==============================] - 6s 6ms/step - loss: 0.0242 - accuracy: 0.9939 - val_loss: 0.0173 - val_accuracy: 0.9964\n",
            "Epoch 20/30\n",
            "981/981 [==============================] - 6s 6ms/step - loss: 0.0245 - accuracy: 0.9934 - val_loss: 0.0176 - val_accuracy: 0.9981\n",
            "Epoch 21/30\n",
            "981/981 [==============================] - 6s 6ms/step - loss: 0.0354 - accuracy: 0.9922 - val_loss: 0.0181 - val_accuracy: 0.9974\n",
            "Epoch 22/30\n",
            "981/981 [==============================] - 6s 6ms/step - loss: 0.0278 - accuracy: 0.9934 - val_loss: 0.0236 - val_accuracy: 0.9967\n",
            "Epoch 23/30\n",
            "981/981 [==============================] - 5s 6ms/step - loss: 0.0183 - accuracy: 0.9953 - val_loss: 0.0188 - val_accuracy: 0.9972\n",
            "Epoch 24/30\n",
            "981/981 [==============================] - 6s 6ms/step - loss: 0.0267 - accuracy: 0.9932 - val_loss: 0.0157 - val_accuracy: 0.9972\n",
            "Epoch 25/30\n",
            "981/981 [==============================] - 6s 6ms/step - loss: 0.0274 - accuracy: 0.9937 - val_loss: 0.0166 - val_accuracy: 0.9976\n",
            "Epoch 26/30\n",
            "981/981 [==============================] - 5s 6ms/step - loss: 0.0176 - accuracy: 0.9950 - val_loss: 0.0135 - val_accuracy: 0.9973\n",
            "Epoch 27/30\n",
            "981/981 [==============================] - 5s 6ms/step - loss: 0.0228 - accuracy: 0.9946 - val_loss: 0.0155 - val_accuracy: 0.9976\n",
            "Epoch 28/30\n",
            "981/981 [==============================] - 6s 6ms/step - loss: 0.0197 - accuracy: 0.9945 - val_loss: 0.0088 - val_accuracy: 0.9981\n",
            "Epoch 29/30\n",
            "981/981 [==============================] - 5s 6ms/step - loss: 0.0157 - accuracy: 0.9958 - val_loss: 0.0128 - val_accuracy: 0.9973\n",
            "Epoch 30/30\n",
            "981/981 [==============================] - 6s 6ms/step - loss: 0.0186 - accuracy: 0.9949 - val_loss: 0.0119 - val_accuracy: 0.9981\n"
          ]
        }
      ]
    },
    {
      "cell_type": "markdown",
      "source": [
        "visualize training results"
      ],
      "metadata": {
        "id": "9GVAK_64meii"
      }
    },
    {
      "cell_type": "code",
      "source": [
        "acc = history.history['accuracy']\n",
        "val_acc = history.history['val_accuracy']\n",
        "\n",
        "loss = history.history['loss']\n",
        "val_loss = history.history['val_loss']\n",
        "\n",
        "epochs_range = range(epochs)\n",
        "\n",
        "plt.figure(figsize=(8, 8))\n",
        "plt.subplot(1, 2, 1)\n",
        "plt.plot(epochs_range, acc, label='Training Accuracy')\n",
        "plt.plot(epochs_range, val_acc, label='Validation Accuracy')\n",
        "plt.legend(loc='lower right')\n",
        "plt.title('Training and Validation Accuracy')\n",
        "\n",
        "plt.subplot(1, 2, 2)\n",
        "plt.plot(epochs_range, loss, label='Training Loss')\n",
        "plt.plot(epochs_range, val_loss, label='Validation Loss')\n",
        "plt.legend(loc='upper right')\n",
        "plt.title('Training and Validation Loss')\n",
        "plt.show()\n",
        "plt.savefig('cnn_accuracy.png')"
      ],
      "metadata": {
        "id": "WLihyxAMmbrh",
        "colab": {
          "base_uri": "https://localhost:8080/",
          "height": 516
        },
        "outputId": "b02e8978-abab-4980-a496-ba3130cea438"
      },
      "execution_count": 186,
      "outputs": [
        {
          "output_type": "display_data",
          "data": {
            "text/plain": [
              "<Figure size 576x576 with 2 Axes>"
            ],
            "image/png": "[encoded data removed]"
          },
          "metadata": {
            "needs_background": "light"
          }
        },
        {
          "output_type": "display_data",
          "data": {
            "text/plain": [
              "<Figure size 432x288 with 0 Axes>"
            ]
          },
          "metadata": {}
        }
      ]
    },
    {
      "cell_type": "code",
      "source": [
        "test = pd.read_csv(DATA_DIR + '/Test.csv')\n",
        "\n",
        "labels = test[\"ClassId\"].values\n",
        "imgs = test[\"Path\"].values\n",
        "crop_coords = test[['Roi.X1', 'Roi.Y1', 'Roi.X2', 'Roi.Y2']]\n",
        "\n",
        "data = []\n",
        "greyscale_data = []\n",
        "crop_data = []\n",
        "crop_grey_dat = []\n",
        "\n",
        "\n",
        "#read in test data\n",
        "for index, row in test.iterrows():\n",
        "    try:\n",
        "        image = cv2.imread(DATA_DIR + '/' + row['Path'])\n",
        "        image_fromarray = Image.fromarray(image, 'RGB')\n",
        "        cropped_img = image_fromarray.crop((row['Roi.X1'], row['Roi.Y1'], row['Roi.X2'], row['Roi.Y2']))\n",
        "        resize_image = image_fromarray.resize((IMG_HEIGHT, IMG_WIDTH))\n",
        "        crop_resize = cropped_img.resize((IMG_HEIGHT, IMG_WIDTH))\n",
        "        greyscale_img = ImageOps.grayscale(resize_image)\n",
        "        crop_grey = ImageOps.grayscale(crop_resize)\n",
        "        data.append(np.array(resize_image))\n",
        "        greyscale_data.append(np.array(greyscale_img))\n",
        "        crop_data.append(np.array(crop_resize))\n",
        "        crop_grey_dat.append(np.array(crop_grey))\n",
        "    except:\n",
        "        print(\"Error in \" + img)\n",
        "\n",
        "X_test = np.array(data)\n",
        "y_test = labels\n",
        "grey_X_test = np.array(greyscale_data)\n",
        "crop_X_test = np.array(crop_data)\n",
        "crop_g_X_test = np.array(crop_grey_dat)\n"
      ],
      "metadata": {
        "id": "ykxkpvB8slIV"
      },
      "execution_count": 176,
      "outputs": []
    },
    {
      "cell_type": "code",
      "source": [
        "prediction = model.predict(x=X_test)\n",
        "prediction\n",
        "preds = np.argmax(prediction, axis=1)"
      ],
      "metadata": {
        "id": "6YdWRhl9rA_Y"
      },
      "execution_count": 177,
      "outputs": []
    },
    {
      "cell_type": "code",
      "source": [
        "from sklearn.metrics import classification_report, confusion_matrix, f1_score\n",
        "\n",
        "print(classification_report(test['ClassId'], preds))"
      ],
      "metadata": {
        "id": "v6cLzbHdtOHJ",
        "colab": {
          "base_uri": "https://localhost:8080/"
        },
        "outputId": "3a08d768-6fc4-45d1-c130-db23406f10b8"
      },
      "execution_count": 179,
      "outputs": [
        {
          "output_type": "stream",
          "name": "stdout",
          "text": [
            "              precision    recall  f1-score   support\n",
            "\n",
            "           0       0.86      1.00      0.92        60\n",
            "           1       0.93      0.99      0.96       720\n",
            "           2       0.95      0.98      0.97       750\n",
            "           3       0.99      0.96      0.97       450\n",
            "           4       1.00      0.97      0.98       660\n",
            "           5       0.98      0.96      0.97       630\n",
            "           6       1.00      0.90      0.95       150\n",
            "           7       0.99      0.90      0.94       450\n",
            "           8       1.00      0.87      0.93       450\n",
            "           9       0.99      0.96      0.97       480\n",
            "          10       1.00      0.95      0.97       660\n",
            "          11       0.93      0.96      0.94       420\n",
            "          12       0.89      1.00      0.94       690\n",
            "          13       0.99      1.00      1.00       720\n",
            "          14       1.00      1.00      1.00       270\n",
            "          15       1.00      0.92      0.96       210\n",
            "          16       1.00      1.00      1.00       150\n",
            "          17       0.99      0.99      0.99       360\n",
            "          18       0.98      0.94      0.96       390\n",
            "          19       1.00      1.00      1.00        60\n",
            "          20       0.98      0.99      0.98        90\n",
            "          21       0.93      0.94      0.94        90\n",
            "          22       1.00      0.93      0.96       120\n",
            "          23       0.77      1.00      0.87       150\n",
            "          24       0.82      0.98      0.89        90\n",
            "          25       0.95      0.98      0.96       480\n",
            "          26       0.97      0.83      0.89       180\n",
            "          27       1.00      0.50      0.67        60\n",
            "          28       0.98      0.97      0.98       150\n",
            "          29       0.83      1.00      0.91        90\n",
            "          30       0.99      0.55      0.70       150\n",
            "          31       0.99      0.99      0.99       270\n",
            "          32       1.00      0.93      0.97        60\n",
            "          33       0.97      1.00      0.99       210\n",
            "          34       0.99      0.99      0.99       120\n",
            "          35       0.93      0.99      0.96       390\n",
            "          36       0.92      0.97      0.95       120\n",
            "          37       0.98      0.95      0.97        60\n",
            "          38       0.98      1.00      0.99       690\n",
            "          39       0.86      0.97      0.91        90\n",
            "          40       0.67      0.97      0.79        90\n",
            "          41       0.80      0.92      0.85        60\n",
            "          42       0.95      0.90      0.93        90\n",
            "\n",
            "    accuracy                           0.96     12630\n",
            "   macro avg       0.95      0.94      0.94     12630\n",
            "weighted avg       0.96      0.96      0.96     12630\n",
            "\n"
          ]
        }
      ]
    },
    {
      "cell_type": "code",
      "source": [
        "conf_mat_rf = confusion_matrix(preds, test['ClassId'])\n",
        "classes = [0, 1]\n",
        "plt.figure(figsize=(12,8))\n",
        "tick_marks = np.arange(len(classes))\n",
        "\n",
        "plt.xticks(tick_marks, classes)\n",
        "plt.yticks(tick_marks, classes)\n",
        "\n",
        "sns.heatmap(pd.DataFrame(conf_mat_rf), annot=True,cmap='YlGnBu',fmt='g')\n",
        "plt.tight_layout()\n",
        "plt.title('Confusion Matrix for CNN on Original Images', y=1.1)\n",
        "plt.ylabel('Actual label')\n",
        "plt.xlabel('Predicted label')\n",
        "plt.savefig('conf_mat_cnn.png')"
      ],
      "metadata": {
        "id": "KDIqta_Ws-CT",
        "colab": {
          "base_uri": "https://localhost:8080/",
          "height": 615
        },
        "outputId": "824bb9fd-9719-445c-e716-f7c3829dad05"
      },
      "execution_count": 185,
      "outputs": [
        {
          "output_type": "display_data",
          "data": {
            "text/plain": [
              "<Figure size 864x576 with 2 Axes>"
            ],
            "image/png": "[encoded data removed]"
          },
          "metadata": {
            "needs_background": "light"
          }
        }
      ]
    },
    {
      "cell_type": "code",
      "source": [
        "report = classification_report(test['ClassId'], preds, output_dict=True)\n",
        "df = pd.DataFrame(report).transpose()"
      ],
      "metadata": {
        "id": "DgTMsfDKwFKR"
      },
      "execution_count": 182,
      "outputs": []
    },
    {
      "cell_type": "code",
      "source": [
        "df.head()"
      ],
      "metadata": {
        "colab": {
          "base_uri": "https://localhost:8080/",
          "height": 206
        },
        "id": "RR3A1K93QlWp",
        "outputId": "5714088b-1de6-4790-a762-df9d981c63c8"
      },
      "execution_count": 183,
      "outputs": [
        {
          "output_type": "execute_result",
          "data": {
            "text/plain": [
              "   precision    recall  f1-score  support\n",
              "0   0.857143  1.000000  0.923077     60.0\n",
              "1   0.933246  0.990278  0.960916    720.0\n",
              "2   0.953368  0.981333  0.967148    750.0\n",
              "3   0.990783  0.955556  0.972851    450.0\n",
              "4   0.995334  0.969697  0.982348    660.0"
            ],
            "text/html": [
              "\n",
              "  <div id=\"df-0f5d3ec2-a21b-4518-837f-a0ef338a91d5\">\n",
              "    <div class=\"colab-df-container\">\n",
              "      <div>\n",
              "<style scoped>\n",
              "    .dataframe tbody tr th:only-of-type {\n",
              "        vertical-align: middle;\n",
              "    }\n",
              "\n",
              "    .dataframe tbody tr th {\n",
              "        vertical-align: top;\n",
              "    }\n",
              "\n",
              "    .dataframe thead th {\n",
              "        text-align: right;\n",
              "    }\n",
              "</style>\n",
              "<table border=\"1\" class=\"dataframe\">\n",
              "  <thead>\n",
              "    <tr style=\"text-align: right;\">\n",
              "      <th></th>\n",
              "      <th>precision</th>\n",
              "      <th>recall</th>\n",
              "      <th>f1-score</th>\n",
              "      <th>support</th>\n",
              "    </tr>\n",
              "  </thead>\n",
              "  <tbody>\n",
              "    <tr>\n",
              "      <th>0</th>\n",
              "      <td>0.857143</td>\n",
              "      <td>1.000000</td>\n",
              "      <td>0.923077</td>\n",
              "      <td>60.0</td>\n",
              "    </tr>\n",
              "    <tr>\n",
              "      <th>1</th>\n",
              "      <td>0.933246</td>\n",
              "      <td>0.990278</td>\n",
              "      <td>0.960916</td>\n",
              "      <td>720.0</td>\n",
              "    </tr>\n",
              "    <tr>\n",
              "      <th>2</th>\n",
              "      <td>0.953368</td>\n",
              "      <td>0.981333</td>\n",
              "      <td>0.967148</td>\n",
              "      <td>750.0</td>\n",
              "    </tr>\n",
              "    <tr>\n",
              "      <th>3</th>\n",
              "      <td>0.990783</td>\n",
              "      <td>0.955556</td>\n",
              "      <td>0.972851</td>\n",
              "      <td>450.0</td>\n",
              "    </tr>\n",
              "    <tr>\n",
              "      <th>4</th>\n",
              "      <td>0.995334</td>\n",
              "      <td>0.969697</td>\n",
              "      <td>0.982348</td>\n",
              "      <td>660.0</td>\n",
              "    </tr>\n",
              "  </tbody>\n",
              "</table>\n",
              "</div>\n",
              "      <button class=\"colab-df-convert\" onclick=\"convertToInteractive('df-0f5d3ec2-a21b-4518-837f-a0ef338a91d5')\"\n",
              "              title=\"Convert this dataframe to an interactive table.\"\n",
              "              style=\"display:none;\">\n",
              "        \n",
              "  <svg xmlns=\"http://www.w3.org/2000/svg\" height=\"24px\"viewBox=\"0 0 24 24\"\n",
              "       width=\"24px\">\n",
              "    <path d=\"M0 0h24v24H0V0z\" fill=\"none\"/>\n",
              "    <path d=\"M18.56 5.44l.94 2.06.94-2.06 2.06-.94-2.06-.94-.94-2.06-.94 2.06-2.06.94zm-11 1L8.5 8.5l.94-2.06 2.06-.94-2.06-.94L8.5 2.5l-.94 2.06-2.06.94zm10 10l.94 2.06.94-2.06 2.06-.94-2.06-.94-.94-2.06-.94 2.06-2.06.94z\"/><path d=\"M17.41 7.96l-1.37-1.37c-.4-.4-.92-.59-1.43-.59-.52 0-1.04.2-1.43.59L10.3 9.45l-7.72 7.72c-.78.78-.78 2.05 0 2.83L4 21.41c.39.39.9.59 1.41.59.51 0 1.02-.2 1.41-.59l7.78-7.78 2.81-2.81c.8-.78.8-2.07 0-2.86zM5.41 20L4 18.59l7.72-7.72 1.47 1.35L5.41 20z\"/>\n",
              "  </svg>\n",
              "      </button>\n",
              "      \n",
              "  <style>\n",
              "    .colab-df-container {\n",
              "      display:flex;\n",
              "      flex-wrap:wrap;\n",
              "      gap: 12px;\n",
              "    }\n",
              "\n",
              "    .colab-df-convert {\n",
              "      background-color: #E8F0FE;\n",
              "      border: none;\n",
              "      border-radius: 50%;\n",
              "      cursor: pointer;\n",
              "      display: none;\n",
              "      fill: #1967D2;\n",
              "      height: 32px;\n",
              "      padding: 0 0 0 0;\n",
              "      width: 32px;\n",
              "    }\n",
              "\n",
              "    .colab-df-convert:hover {\n",
              "      background-color: #E2EBFA;\n",
              "      box-shadow: 0px 1px 2px rgba(60, 64, 67, 0.3), 0px 1px 3px 1px rgba(60, 64, 67, 0.15);\n",
              "      fill: #174EA6;\n",
              "    }\n",
              "\n",
              "    [theme=dark] .colab-df-convert {\n",
              "      background-color: #3B4455;\n",
              "      fill: #D2E3FC;\n",
              "    }\n",
              "\n",
              "    [theme=dark] .colab-df-convert:hover {\n",
              "      background-color: #434B5C;\n",
              "      box-shadow: 0px 1px 3px 1px rgba(0, 0, 0, 0.15);\n",
              "      filter: drop-shadow(0px 1px 2px rgba(0, 0, 0, 0.3));\n",
              "      fill: #FFFFFF;\n",
              "    }\n",
              "  </style>\n",
              "\n",
              "      <script>\n",
              "        const buttonEl =\n",
              "          document.querySelector('#df-0f5d3ec2-a21b-4518-837f-a0ef338a91d5 button.colab-df-convert');\n",
              "        buttonEl.style.display =\n",
              "          google.colab.kernel.accessAllowed ? 'block' : 'none';\n",
              "\n",
              "        async function convertToInteractive(key) {\n",
              "          const element = document.querySelector('#df-0f5d3ec2-a21b-4518-837f-a0ef338a91d5');\n",
              "          const dataTable =\n",
              "            await google.colab.kernel.invokeFunction('convertToInteractive',\n",
              "                                                     [key], {});\n",
              "          if (!dataTable) return;\n",
              "\n",
              "          const docLinkHtml = 'Like what you see? Visit the ' +\n",
              "            '<a target=\"_blank\" href=https://colab.research.google.com/notebooks/data_table.ipynb>data table notebook</a>'\n",
              "            + ' to learn more about interactive tables.';\n",
              "          element.innerHTML = '';\n",
              "          dataTable['output_type'] = 'display_data';\n",
              "          await google.colab.output.renderOutput(dataTable, element);\n",
              "          const docLink = document.createElement('div');\n",
              "          docLink.innerHTML = docLinkHtml;\n",
              "          element.appendChild(docLink);\n",
              "        }\n",
              "      </script>\n",
              "    </div>\n",
              "  </div>\n",
              "  "
            ]
          },
          "metadata": {},
          "execution_count": 183
        }
      ]
    },
    {
      "cell_type": "code",
      "source": [
        "df.to_csv('classification_report_cnn.csv')"
      ],
      "metadata": {
        "id": "ma1CpJkvQ-e4"
      },
      "execution_count": 184,
      "outputs": []
    },
    {
      "cell_type": "code",
      "source": [
        ""
      ],
      "metadata": {
        "id": "3tL11aSxRCKa"
      },
      "execution_count": null,
      "outputs": []
    }
  ],
  "metadata": {
    "accelerator": "GPU",
    "colab": {
      "collapsed_sections": [],
      "name": "GTSRB_CNN.ipynb",
      "provenance": [],
      "include_colab_link": true
    },
    "gpuClass": "standard",
    "kernelspec": {
      "display_name": "Python 3",
      "name": "python3"
    },
    "language_info": {
      "name": "python"
    }
  },
  "nbformat": 4,
  "nbformat_minor": 0
}